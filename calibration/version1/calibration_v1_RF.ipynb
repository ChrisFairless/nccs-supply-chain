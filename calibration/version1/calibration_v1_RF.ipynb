{
 "cells": [
  {
   "attachments": {},
   "cell_type": "markdown",
   "metadata": {},
   "source": [
    "# Impact Function Calibration\n",
    "\n",
    "Here is a walkthrough of the NCCS calibration module.\n",
    "\n",
    "The structure and naming mirrors the CLIMADA calibration module, but this addds flexibility and functionality to calibrate entire model pipelines and heterogeneous observations.\n"
   ]
  },
  {
   "cell_type": "code",
   "execution_count": 1,
   "metadata": {},
   "outputs": [
    {
     "name": "stderr",
     "output_type": "stream",
     "text": [
      "/opt/homebrew/Caskroom/miniforge/base/envs/nccs/lib/python3.9/site-packages/dask/dataframe/_pyarrow_compat.py:17: FutureWarning: Minimal version of pyarrow will soon be increased to 14.0.1. You are using 12.0.1. Please consider upgrading.\n",
      "  warnings.warn(\n"
     ]
    }
   ],
   "source": [
    "# Import\n",
    "import sys\n",
    "sys.path.append('../..')\n",
    "import logging\n",
    "import climada\n",
    "import warnings\n",
    "from pathlib import Path\n",
    "import numpy as np\n",
    "import pandas as pd\n",
    "import copy\n",
    "import os\n",
    "import pycountry\n",
    "import matplotlib as mpl\n",
    "import matplotlib.pyplot as plt\n",
    "import matplotlib.cm as cm\n",
    "from sklearn.metrics import mean_squared_log_error\n",
    "from climada.util import log_level\n",
    "from climada.entity import ImpactFuncSet, ImpfTropCyclone\n",
    "\n",
    "from calibration.base import NCCSInput\n",
    "from calibration.bayesian_optimizer import NCCSBayesianOptimizer, NCCSBayesianOptimizerController\n",
    "from calibration.rp_errors import rp_rmse\n",
    "from nccs.utils import folder_naming\n",
    "\n",
    "logging.getLogger(\"climada\").setLevel(\"INFO\")\n",
    "warnings.filterwarnings(\"ignore\", category=DeprecationWarning)\n",
    "\n",
    "LOGGER = logging.getLogger(__name__)"
   ]
  },
  {
   "attachments": {},
   "cell_type": "markdown",
   "metadata": {},
   "source": [
    "## User-supplied components of an NCCS calibration\n",
    "\n",
    "The input to an NCCS calibration looks like this:\n",
    "\n",
    "```\n",
    "input = NCCSInput(\n",
    "    config = config_template,\n",
    "    data = obs,\n",
    "    write_impact_functions = write_regional_tc_impact_function,\n",
    "    return_period_impacts_from_config = return_period_impacts_from_config,\n",
    "    cost_func = rp_rmse,\n",
    "    bounds = bounds,\n",
    "    constraints = constraints,\n",
    "    linear_param='scale'\n",
    ")\n",
    "```\n",
    "\n",
    "We'll go through these components one by one"
   ]
  },
  {
   "attachments": {},
   "cell_type": "markdown",
   "metadata": {},
   "source": [
    "### 1. Config template\n",
    "\n",
    "A calibration will run the modelling pipeline many times, each time sampling from the parameter space we're exploring and optimising, each time giving different impact functions.\n",
    "\n",
    "The `config_template` describes the model pipeline that will be run each time. The code will update the run's name each time the model is called so taht outputs are stored separately.\n",
    "\n",
    "The impact functions themselves are _not_ contained in the config file. The `\"calibrated\": \"custom\"` entry says that impact functions should be read from a file, which the calibration will provide each time the model is called.\n",
    "\n",
    "MS: I use the RF label for river flood, 2q to signalise dividing events into 2 quantile cuts and 0 to denote 0-zth quantile being used."
   ]
  },
  {
   "cell_type": "code",
   "execution_count": 2,
   "metadata": {},
   "outputs": [],
   "source": [
    "# NCCS model config\n",
    "\n",
    "import pathos as pa\n",
    "ncpus = 3\n",
    "ncpus = pa.helpers.cpu_count() - 2\n",
    "\n",
    "project_folder = \"calibration_v1/RF/2q0/\"\n",
    "\n",
    "config_template = {\n",
    "    \"run_title\": project_folder + \"RF_2q0_\",\n",
    "    \"n_sim_years\": 0,                   # (We don't do this part of the pipeline)\n",
    "    \"io_approach\": [],                  # (We don't do this part of the pipeline)\n",
    "    \"force_recalculation\": False,\n",
    "    \"use_s3\": False,\n",
    "    \"log_level\": \"INFO\",\n",
    "    \"seed\": 161,\n",
    "\n",
    "    # Which parts of the model chain to run:\n",
    "    \"do_direct\": True,                  # Calculate direct impacts (that aren't already calculated)\n",
    "    \"do_yearsets\": False,               # Calculate direct impact yearsets (that aren't already calculated)\n",
    "    \"do_multihazard\": False,            # Also combine hazards to create multi-hazard supply chain shocks\n",
    "    \"do_indirect\": False,               # Calculate any indirect supply chain impacts (that aren't already calculated)\n",
    "\n",
    "    # Impact functions:\n",
    "    \"business_interruption\": False,     # Turn off to assume % asset loss = % production loss. Mostly for debugging and reproducibility\n",
    "    \"calibrated\": \"custom\",             # Custom impacts\n",
    "\n",
    "    # Parallisation:\n",
    "    \"do_parallel\": False,                # Parallelise some operations\n",
    "    \"ncpus\": ncpus,\n",
    "\n",
    "    \"runs\": [\n",
    "        {\n",
    "            \"hazard\": \"river_flood\",\n",
    "            \"io_approach\": [],\n",
    "            \"sectors\": [\"economic_assets\"],\n",
    "            \"countries\": None,   # We'll set these in a moment\n",
    "            \"scenario_years\": [\n",
    "                {\"scenario\": \"None\", \"ref_year\": \"historical\"},\n",
    "            ],\n",
    "        },\n",
    "    ]\n",
    "}"
   ]
  },
  {
   "cell_type": "markdown",
   "metadata": {},
   "source": [
    "## 2. Observation data\n",
    "\n",
    "The observations are prepared by scripts in the resources/calibration_calculations/observations_calculations/ folder and stored in the resources/calibration_calculations/observations_calculations/ folder.\n",
    "\n",
    "For TCs all observations are currently of the form region - country - event_id - return period - impact (USD), extracted from EM-DAT.\n",
    "\n",
    "The calibration of the impact functions will compare modelled return period losses to the these observations.\n",
    "\n",
    "This calibration is for the Southern Indian ocean `SI` region because it's computationally quite cheap."
   ]
  },
  {
   "cell_type": "code",
   "execution_count": 3,
   "metadata": {},
   "outputs": [
    {
     "data": {
      "text/html": [
       "<div>\n",
       "<style scoped>\n",
       "    .dataframe tbody tr th:only-of-type {\n",
       "        vertical-align: middle;\n",
       "    }\n",
       "\n",
       "    .dataframe tbody tr th {\n",
       "        vertical-align: top;\n",
       "    }\n",
       "\n",
       "    .dataframe thead th {\n",
       "        text-align: right;\n",
       "    }\n",
       "</style>\n",
       "<table border=\"1\" class=\"dataframe\">\n",
       "  <thead>\n",
       "    <tr style=\"text-align: right;\">\n",
       "      <th></th>\n",
       "      <th>country</th>\n",
       "      <th>year</th>\n",
       "      <th>rp</th>\n",
       "      <th>impact</th>\n",
       "      <th>vuln_nd_gain_2022</th>\n",
       "      <th>vuln_quantile</th>\n",
       "    </tr>\n",
       "  </thead>\n",
       "  <tbody>\n",
       "    <tr>\n",
       "      <th>3</th>\n",
       "      <td>ALB</td>\n",
       "      <td>2002</td>\n",
       "      <td>34.0</td>\n",
       "      <td>28472000.0</td>\n",
       "      <td>0.386332</td>\n",
       "      <td>0.0</td>\n",
       "    </tr>\n",
       "    <tr>\n",
       "      <th>4</th>\n",
       "      <td>ALB</td>\n",
       "      <td>2004</td>\n",
       "      <td>17.0</td>\n",
       "      <td>268000.0</td>\n",
       "      <td>0.386332</td>\n",
       "      <td>0.0</td>\n",
       "    </tr>\n",
       "  </tbody>\n",
       "</table>\n",
       "</div>"
      ],
      "text/plain": [
       "  country  year    rp      impact  vuln_nd_gain_2022  vuln_quantile\n",
       "3     ALB  2002  34.0  28472000.0           0.386332            0.0\n",
       "4     ALB  2004  17.0    268000.0           0.386332            0.0"
      ]
     },
     "execution_count": 3,
     "metadata": {},
     "output_type": "execute_result"
    }
   ],
   "source": [
    "# Load observations\n",
    "\n",
    "obs = pd.read_csv(\"../../resources/observations/data/rf_rp_by_country_full.csv\")\n",
    "vuln_country_data= pd.read_csv(\"../../resources/vuln_2022_nd_gain.csv\")\n",
    "vuln_quantiles_split = 2\n",
    "#Fill in values for small countries which have no vulnerabilities but do have flood events\n",
    "#AND, LIE, MCO, KNA, SMR\n",
    "#AND and MCO get France\n",
    "\n",
    "vuln_country_data.loc[vuln_country_data[\"country\"]==\"AND\", \"vuln_nd_gain_2022\"]=vuln_country_data.loc[vuln_country_data[\"country\"]==\"FRA\", \"vuln_nd_gain_2022\"].iloc[0]\n",
    "vuln_country_data.loc[vuln_country_data[\"country\"]==\"MCO\", \"vuln_nd_gain_2022\"]=vuln_country_data.loc[vuln_country_data[\"country\"]==\"FRA\", \"vuln_nd_gain_2022\"].iloc[0]\n",
    "#LIE gets switzerland\n",
    "vuln_country_data.loc[vuln_country_data[\"country\"]==\"LIE\", \"vuln_nd_gain_2022\"]=vuln_country_data.loc[vuln_country_data[\"country\"]==\"CHE\", \"vuln_nd_gain_2022\"].iloc[0]\n",
    "#SMR gets italy\n",
    "vuln_country_data.loc[vuln_country_data[\"country\"]==\"SMR\", \"vuln_nd_gain_2022\"]=vuln_country_data.loc[vuln_country_data[\"country\"]==\"ITA\", \"vuln_nd_gain_2022\"].iloc[0]\n",
    "#KNA gets DMA\n",
    "vuln_country_data.loc[vuln_country_data[\"country\"]==\"KNA\", \"vuln_nd_gain_2022\"]=vuln_country_data.loc[vuln_country_data[\"country\"]==\"DMA\", \"vuln_nd_gain_2022\"].iloc[0]\n",
    "\n",
    "\n",
    "vuln_country_data[\"vuln_quantile\"]=pd.qcut(vuln_country_data['vuln_nd_gain_2022'], vuln_quantiles_split, labels=False)\n",
    "obs = obs.merge(vuln_country_data, on=\"country\", how=\"left\")\n",
    "\n",
    "obs = obs[(obs[\"vuln_quantile\"] == 0)]\n",
    "obs=obs[(obs['country']==\"ALB\")]\n",
    "countries_iso3alpha = obs['country'].unique().tolist()\n",
    "#Drop countries not existing anymore\n",
    "countries_remove = [\"DFR\", \"SPI\", \"SUN\", \"YUG\"]\n",
    "countries_iso3alpha = [country for country in countries_iso3alpha if country not in countries_remove]\n",
    "\n",
    "\n",
    "countries = [pycountry.countries.get(alpha_3=c).name for c in countries_iso3alpha]\n",
    "n_years =max(obs['rp'])\n",
    "\n",
    "# Set the run's countries to these\n",
    "config_template['runs'][0]['countries'] = countries\n",
    "\n",
    "obs"
   ]
  },
  {
   "cell_type": "markdown",
   "metadata": {},
   "source": [
    "# 3. `write_impact_functions`: a method to write custom impact functions from sampled input parameters\n",
    "\n",
    "This is the model pipeline setup stage. Any changes to the model inputs and pipeline before it's run are made here, based on the sampled parameters for this run of the model. \n",
    "\n",
    "Currently this means writing impact functions defined by the input parameters to a file that is read in during the impact calculations."
   ]
  },
  {
   "cell_type": "code",
   "execution_count": 4,
   "metadata": {},
   "outputs": [],
   "source": [
    "from calibration.utils import write_exp_impf_to_file\n",
    "\n",
    "def write_regional_rf_impact_function(v_half):\n",
    "    write_exp_impf_to_file('river_flood', v_half)"
   ]
  },
  {
   "cell_type": "markdown",
   "metadata": {},
   "source": [
    "## 4. `return_period_impacts_from_config`: a method to reproduce the observations with the model\n",
    "\n",
    "This is the most complex part of the setup.\n",
    "\n",
    "Given the observations that we have (and given that they might be very heterogeneous: a bunch of summary statistics gathered from the literature), we need a method that runs the NCCS modelling pipeline and then reads in the results to recreate the observations.\n",
    "\n",
    "The output of this method will be used as input to the following `cost_func` cost function, which we also supply (so there is some flexibility).\n",
    "\n",
    "The method below takes a config file (the optimizer takes the config template and generates a new config for each iteration). It runs the model pipeline and then reads the output, calculating return period losses by country to match the observations we have."
   ]
  },
  {
   "cell_type": "code",
   "execution_count": 5,
   "metadata": {},
   "outputs": [],
   "source": [
    "# We need this method in other places too: go check it out, it's at the core of the calibration\n",
    "from calibration.utils import return_period_impacts_from_config\n",
    "from nccs.analysis import run_pipeline_from_config\n",
    "from nccs.pipeline.direct.direct import HAZ_N_YEARS\n",
    "from climada.engine import Impact\n",
    "\n",
    "# MS: no changes here"
   ]
  },
  {
   "attachments": {},
   "cell_type": "markdown",
   "metadata": {},
   "source": [
    "## 5. The cost function\n",
    "\n",
    "This is a method that takes two dataframes: the observations and the observations as reproduced by the model. It aligns them and calculates some measure of the 'difference' between them (a 0 is a perfect reproduction, and higher values mean the model is worse. Note this is different from optimizations that want to maximize the objective function: the code accounts for this).\n",
    "\n",
    "In this case we use the root mean square error which is provided by a util function in `calibration.rp_errors`.\n",
    "\n",
    "There are three decisions/assumptions worth noting in this choice of cost function:\n",
    "- we use the root mean square error to evaluate model performance (not the log). This means that error from small events aren't very important and errors from large events dominate the cost function. This is what we want. (Other options to consider: root_mean_squared_log_error, mean_squared_error)\n",
    "- all return periods are weighted equally. If we want to weight towards more extreme events we can reconsider this\n",
    "- all events are weighted equally. That means that countries with more events (and therefore more observations) have a stronger effect on the calibration"
   ]
  },
  {
   "cell_type": "code",
   "execution_count": 6,
   "metadata": {},
   "outputs": [],
   "source": [
    "cost_function = rp_rmse"
   ]
  },
  {
   "cell_type": "markdown",
   "metadata": {},
   "source": [
    "## 6. The input parameter bounds\n",
    "\n",
    "These provide a permitted range for each parameter we're working with. It's a dictionary giving bounds for each parameter.\n",
    "\n",
    "MS: I assumed that half dame of flood makes sense between at 10cm and 3m for commercial buildings. "
   ]
  },
  {
   "cell_type": "code",
   "execution_count": 7,
   "metadata": {},
   "outputs": [],
   "source": [
    "# bounds = {\"v_thresh\": (25.8, 25.8), \"v_half\": (25.8, 150), \"scale\": (0.01, 1)}\n",
    "bounds = {\"v_half\": (0.1, 3.0)}"
   ]
  },
  {
   "cell_type": "markdown",
   "metadata": {},
   "source": [
    "Later we will also need code to visualise the input parameters. In this case the parameters correspond directly to a single impact function, though this won't always be the case."
   ]
  },
  {
   "cell_type": "code",
   "execution_count": 8,
   "metadata": {},
   "outputs": [],
   "source": [
    "#from climada.entity import ImpfTropCyclone\n",
    "from calibration.version1.rf_calibration import ImpfFlood\n",
    "\n",
    "def impf_from_params(params):\n",
    "    return ImpfFlood.from_exp_sigmoid(v_half=params['v_half'], intensity=np.arange(0.0, 12.0, 0.1))"
   ]
  },
  {
   "cell_type": "markdown",
   "metadata": {},
   "source": [
    "The 'default' impact function that we're improving on is this:\n",
    "\n",
    "MS: I took the Africa one as example from climada_petals ImpfRiverFlood. Based on the literature those functions are for residential areas, I expect for commercial production damage happens faster than for residential areas."
   ]
  },
  {
   "cell_type": "code",
   "execution_count": 9,
   "metadata": {},
   "outputs": [
    {
     "data": {
      "text/plain": [
       "<Axes: title={'center': 'RF 1: Flood Africa JRC Residential noPAA'}, xlabel='Intensity (m)', ylabel='Impact (%)'>"
      ]
     },
     "execution_count": 9,
     "metadata": {},
     "output_type": "execute_result"
    },
    {
     "data": {
      "image/png": "[encoded data removed]",
      "text/plain": [
       "<Figure size 640x480 with 1 Axes>"
      ]
     },
     "metadata": {},
     "output_type": "display_data"
    }
   ],
   "source": [
    "from nccs.pipeline.direct.direct import get_impf_tc\n",
    "from climada.entity import ImpfSetTropCyclone\n",
    "from climada_petals.entity.impact_funcs.river_flood import ImpfRiverFlood\n",
    "default_impf = ImpfRiverFlood.from_region(region='africa')\n",
    "default_impf.plot()\n",
    "\n",
    "\n",
    "# default_impf = ImpfSetTropCyclone.from_calibrated_regional_ImpfSet()\n",
    "# default_impf = default_impf.get_func(haz_type='TC', fun_id=5)  # 1: NA1, 5: SI\n",
    "# default_impf.plot()"
   ]
  },
  {
   "cell_type": "markdown",
   "metadata": {},
   "source": [
    "And the parameter space we're searching is huge. We can sample it:\n",
    "\n",
    "MS: Here one can see that the single parametric space of exp sigmoids covers the for example Africa curve very nicely. I took it as an example because as noted commercial exposures should be more vulnerable than residential."
   ]
  },
  {
   "cell_type": "code",
   "execution_count": 10,
   "metadata": {},
   "outputs": [
    {
     "data": {
      "image/png": "[encoded data removed]",
      "text/plain": [
       "<Figure size 640x480 with 1 Axes>"
      ]
     },
     "metadata": {},
     "output_type": "display_data"
    }
   ],
   "source": [
    "fig, ax = plt.subplots()\n",
    "\n",
    "n_samples = 50\n",
    "v_half_samples = np.random.uniform(*bounds['v_half'], size=n_samples)\n",
    "\n",
    "for i in range(n_samples):\n",
    "    v_half = v_half_samples[i]\n",
    "    impf = impf_from_params({'v_half': v_half})\n",
    "    ax.plot(\n",
    "        np.arange(0,12),\n",
    "        impf.calc_mdr(np.arange(0,12)),\n",
    "        color='lightblue',\n",
    "        alpha=0.3\n",
    "    )\n",
    "\n",
    "ax.plot(\n",
    "    np.arange(0,12),\n",
    "    default_impf.calc_mdr(np.arange(0,12)),\n",
    "    color='black',\n",
    ")\n",
    "\n",
    "ax.set_xlim([0.0, 12.0])\n",
    "\n",
    "plt.show()\n"
   ]
  },
  {
   "cell_type": "markdown",
   "metadata": {},
   "source": [
    "# Constraints\n",
    "\n",
    "The BayesianOptimization also takes `constraints`. These can also be provided here. There are no constraints in this run.\n",
    "\n",
    "When we apply constraints later we'll do it in a strangely crude way where we code them ourselves and  return a really bad result that the cost function will hate. Seems like a weird approach but it's recommended here: https://bayesian-optimization.github.io/BayesianOptimization/1.5.1/constraints.html#1.-Simple-Constrained-Optimization"
   ]
  },
  {
   "cell_type": "code",
   "execution_count": 11,
   "metadata": {},
   "outputs": [],
   "source": [
    "constraints = None"
   ]
  },
  {
   "cell_type": "markdown",
   "metadata": {},
   "source": [
    "# Linear parameter\n",
    "\n",
    "The `linear_param` parameter is new to the NCCS calibration.\n",
    "\n",
    "If you know that the impacts in the data frame produced by the `return_period_impacts_from_config` method are linear in one of the input parameters, specify that here.\n",
    "\n",
    "For most impact functions that we'll look at in NCCS there will be a `scale` parameter which provides a linear scaling to the impacts. So we specify this here.\n",
    "\n",
    "The modelling pipeline is set up to recognise that adjustments to this parameter are extremely cheap and so it samples generously when this is the case."
   ]
  },
  {
   "cell_type": "markdown",
   "metadata": {},
   "source": [
    "# Run the calibration\n",
    "\n",
    "Now we can put this all together!\n",
    "\n",
    "MS: In this section it fails to generate the dataframe with results from the pipeline run :/ Seems something to fix in the pipeline."
   ]
  },
  {
   "cell_type": "code",
   "execution_count": 12,
   "metadata": {},
   "outputs": [
    {
     "name": "stdout",
     "output_type": "stream",
     "text": [
      "2024-11-04 12:24:50,010 - calibration.base - DEBUG - Creating the NCCSInput object\n",
      "2024-11-04 12:24:50,012 - calibration.bayesian_optimizer - DEBUG - Initialising the NCCSBayesianOptimizer\n",
      "2024-11-04 12:24:50,012 - calibration.base - DEBUG - Initialising an NCCSOptimizer without a cache\n",
      "2024-11-04 12:24:50,013 - calibration.bayesian_optimizer - DEBUG - Initialising the NCCSBayesianOptimization\n",
      "2024-11-04 12:24:50,014 - calibration.bayesian_optimizer - DEBUG - Starting the execution of the NCCSBayesianOptimizer\n",
      "2024-11-04 12:24:50,015 - calibration.bayesian_optimizer - INFO - Gathering any data saved from previous runs in /Users/marcelserina/Dev/nccs-supply-chain/results/calibration_v1/RF/2q0\n",
      "2024-11-04 12:24:50,016 - calibration.bayesian_optimizer - INFO - RF_2q0_fb58f550: Found a folder set up for parameters {'v_half': 1.251066014107722}. Adding to the queue.\n",
      "2024-11-04 12:24:50,016 - calibration.bayesian_optimizer - DEBUG - Adding params to queue (probe method): {'v_half': 1.251066014107722}\n",
      "2024-11-04 12:24:50,017 - calibration.bayesian_optimizer - DEBUG - Found a total of 1 existing outputs (full or partial)\n",
      "2024-11-04 12:24:50,017 - climada.util.calibrate.bayesian_optimizer - INFO - Optimization iteration: 0\n",
      "2024-11-04 12:24:50,018 - calibration.bayesian_optimizer - DEBUG - Probing params: {'v_half': 1.251066014107722}\n",
      "2024-11-04 12:24:50,018 - calibration.base - DEBUG - This run has no previous data saved to disk or cache: we will run the modelling chain. Run title calibration_v1/RF/2q0/RF_2q0_fb58f550\n",
      "2024-11-04 12:24:50,019 - calibration.base - DEBUG - Writing new impact functions\n",
      "2024-11-04 12:24:50,022 - calibration.base - DEBUG - Running the pipeline and getting results\n",
      "2024-11-04 12:24:50,022 - nccs.analysis - INFO - To change the logging level of CLIMADA, edit climada.conf in the root directory and set log_level to INFO or DEBUG.Current level is WARNING\n",
      "2024-11-04 12:24:50,022 - nccs.analysis - INFO - NCCS PIPELINE: calibration_v1/RF/2q0/RF_2q0_fb58f550\n",
      "2024-11-04 12:24:50,024 - nccs.analysis - INFO - Direct output will be saved to /Users/marcelserina/Dev/nccs-supply-chain/results/calibration_v1/RF/2q0/RF_2q0_fb58f550/direct\n",
      "2024-11-04 12:24:50,027 - nccs.analysis - INFO - \n",
      "\n",
      "RUNNING DIRECT IMPACT CALCULATIONS\n",
      "2024-11-04 12:24:50,028 - nccs.analysis - INFO - There are 1 direct impacts to calculate. (0 exist already. Full analysis has 1 impacts.)\n",
      "I am here\n",
      "custom\n",
      "Index(['v_half'], dtype='object')\n",
      "blah\n",
      "2024-11-04 12:24:57,863 - nccs.analysis - INFO - Skipping yearset calculations. Set do_yearsets: True in your config to change this\n",
      "2024-11-04 12:24:57,865 - nccs.analysis - INFO - Skipping multihazard impact calculations. Set do_multihazard: True in your config to change this\n",
      "2024-11-04 12:24:57,865 - nccs.analysis - INFO - \n",
      "\n",
      "MODELLING SUPPLY CHAINS\n",
      "2024-11-04 12:24:57,867 - nccs.analysis - INFO - There are 0 out of 1 supply chains to calculate\n",
      "2024-11-04 12:24:57,867 - nccs.analysis - INFO - Skipping supply chain calculations. Set do_indirect: True in your config to change this\n",
      "2024-11-04 12:24:57,869 - nccs.analysis - INFO - \n",
      "\n",
      "Done!\n",
      "To show the Dashboard run:\n",
      "bokeh serve dashboard.py --show\n",
      "2024-11-04 12:24:57,870 - nccs.analysis - INFO - Don't forget to update the current run title within the dashboard.py script: RUN_TITLE\n",
      "2024-11-04 12:24:57,877 - calibration.base - DEBUG - Saving results to disk: /Users/marcelserina/Dev/nccs-supply-chain/results/calibration_v1/RF/2q0/RF_2q0_fb58f550/direct/reproduced_obs.csv\n",
      "2024-11-04 12:24:57,880 - calibration.base - DEBUG - Cleaning up\n",
      "2024-11-04 12:24:57,881 - calibration.base - INFO - Model pipeline execution took 0:00:07.862228\n",
      "2024-11-04 12:24:57,890 - calibration.bayesian_optimizer - DEBUG - Probing params: {'v_half': 1.3093638136374646}\n",
      "2024-11-04 12:24:57,891 - calibration.base - DEBUG - This run has no previous data saved to disk or cache: we will run the modelling chain. Run title calibration_v1/RF/2q0/RF_2q0_929cef1f\n",
      "2024-11-04 12:24:57,892 - calibration.base - DEBUG - Writing new impact functions\n",
      "2024-11-04 12:24:57,894 - calibration.base - DEBUG - Running the pipeline and getting results\n",
      "2024-11-04 12:24:57,894 - nccs.analysis - INFO - To change the logging level of CLIMADA, edit climada.conf in the root directory and set log_level to INFO or DEBUG.Current level is WARNING\n",
      "2024-11-04 12:24:57,894 - nccs.analysis - INFO - NCCS PIPELINE: calibration_v1/RF/2q0/RF_2q0_929cef1f\n",
      "2024-11-04 12:24:57,895 - nccs.analysis - INFO - Direct output will be saved to /Users/marcelserina/Dev/nccs-supply-chain/results/calibration_v1/RF/2q0/RF_2q0_929cef1f/direct\n",
      "2024-11-04 12:24:57,896 - nccs.analysis - INFO - \n",
      "\n",
      "RUNNING DIRECT IMPACT CALCULATIONS\n",
      "2024-11-04 12:24:57,897 - nccs.analysis - INFO - There are 1 direct impacts to calculate. (0 exist already. Full analysis has 1 impacts.)\n",
      "I am here\n",
      "custom\n",
      "Index(['v_half'], dtype='object')\n",
      "blah\n",
      "2024-11-04 12:25:05,124 - nccs.analysis - INFO - Skipping yearset calculations. Set do_yearsets: True in your config to change this\n",
      "2024-11-04 12:25:05,126 - nccs.analysis - INFO - Skipping multihazard impact calculations. Set do_multihazard: True in your config to change this\n",
      "2024-11-04 12:25:05,127 - nccs.analysis - INFO - \n",
      "\n",
      "MODELLING SUPPLY CHAINS\n",
      "2024-11-04 12:25:05,128 - nccs.analysis - INFO - There are 0 out of 1 supply chains to calculate\n",
      "2024-11-04 12:25:05,129 - nccs.analysis - INFO - Skipping supply chain calculations. Set do_indirect: True in your config to change this\n",
      "2024-11-04 12:25:05,130 - nccs.analysis - INFO - \n",
      "\n",
      "Done!\n",
      "To show the Dashboard run:\n",
      "bokeh serve dashboard.py --show\n",
      "2024-11-04 12:25:05,131 - nccs.analysis - INFO - Don't forget to update the current run title within the dashboard.py script: RUN_TITLE\n",
      "2024-11-04 12:25:05,137 - calibration.base - DEBUG - Saving results to disk: /Users/marcelserina/Dev/nccs-supply-chain/results/calibration_v1/RF/2q0/RF_2q0_929cef1f/direct/reproduced_obs.csv\n",
      "2024-11-04 12:25:05,139 - calibration.base - DEBUG - Cleaning up\n",
      "2024-11-04 12:25:05,140 - calibration.base - INFO - Model pipeline execution took 0:00:07.248718\n",
      "2024-11-04 12:25:05,154 - calibration.bayesian_optimizer - DEBUG - Probing params: {'v_half': 2.1889410309822583}\n",
      "2024-11-04 12:25:05,154 - calibration.base - DEBUG - This run has no previous data saved to disk or cache: we will run the modelling chain. Run title calibration_v1/RF/2q0/RF_2q0_60cd1e83\n",
      "2024-11-04 12:25:05,155 - calibration.base - DEBUG - Writing new impact functions\n",
      "2024-11-04 12:25:05,157 - calibration.base - DEBUG - Running the pipeline and getting results\n",
      "2024-11-04 12:25:05,157 - nccs.analysis - INFO - To change the logging level of CLIMADA, edit climada.conf in the root directory and set log_level to INFO or DEBUG.Current level is WARNING\n",
      "2024-11-04 12:25:05,158 - nccs.analysis - INFO - NCCS PIPELINE: calibration_v1/RF/2q0/RF_2q0_60cd1e83\n",
      "2024-11-04 12:25:05,159 - nccs.analysis - INFO - Direct output will be saved to /Users/marcelserina/Dev/nccs-supply-chain/results/calibration_v1/RF/2q0/RF_2q0_60cd1e83/direct\n",
      "2024-11-04 12:25:05,160 - nccs.analysis - INFO - \n",
      "\n",
      "RUNNING DIRECT IMPACT CALCULATIONS\n",
      "2024-11-04 12:25:05,161 - nccs.analysis - INFO - There are 1 direct impacts to calculate. (0 exist already. Full analysis has 1 impacts.)\n",
      "I am here\n",
      "custom\n",
      "Index(['v_half'], dtype='object')\n",
      "blah\n",
      "2024-11-04 12:25:12,598 - nccs.analysis - INFO - Skipping yearset calculations. Set do_yearsets: True in your config to change this\n",
      "2024-11-04 12:25:12,599 - nccs.analysis - INFO - Skipping multihazard impact calculations. Set do_multihazard: True in your config to change this\n",
      "2024-11-04 12:25:12,599 - nccs.analysis - INFO - \n",
      "\n",
      "MODELLING SUPPLY CHAINS\n",
      "2024-11-04 12:25:12,600 - nccs.analysis - INFO - There are 0 out of 1 supply chains to calculate\n",
      "2024-11-04 12:25:12,600 - nccs.analysis - INFO - Skipping supply chain calculations. Set do_indirect: True in your config to change this\n",
      "2024-11-04 12:25:12,602 - nccs.analysis - INFO - \n",
      "\n",
      "Done!\n",
      "To show the Dashboard run:\n",
      "bokeh serve dashboard.py --show\n",
      "2024-11-04 12:25:12,603 - nccs.analysis - INFO - Don't forget to update the current run title within the dashboard.py script: RUN_TITLE\n",
      "2024-11-04 12:25:12,609 - calibration.base - DEBUG - Saving results to disk: /Users/marcelserina/Dev/nccs-supply-chain/results/calibration_v1/RF/2q0/RF_2q0_60cd1e83/direct/reproduced_obs.csv\n",
      "2024-11-04 12:25:12,613 - calibration.base - DEBUG - Cleaning up\n",
      "2024-11-04 12:25:12,614 - calibration.base - INFO - Model pipeline execution took 0:00:07.458771\n",
      "2024-11-04 12:25:12,623 - calibration.bayesian_optimizer - DEBUG - Probing params: {'v_half': 0.10033168697030018}\n",
      "2024-11-04 12:25:12,624 - calibration.base - DEBUG - This run has no previous data saved to disk or cache: we will run the modelling chain. Run title calibration_v1/RF/2q0/RF_2q0_2c659e12\n",
      "2024-11-04 12:25:12,624 - calibration.base - DEBUG - Writing new impact functions\n",
      "2024-11-04 12:25:12,627 - calibration.base - DEBUG - Running the pipeline and getting results\n",
      "2024-11-04 12:25:12,627 - nccs.analysis - INFO - To change the logging level of CLIMADA, edit climada.conf in the root directory and set log_level to INFO or DEBUG.Current level is WARNING\n",
      "2024-11-04 12:25:12,628 - nccs.analysis - INFO - NCCS PIPELINE: calibration_v1/RF/2q0/RF_2q0_2c659e12\n",
      "2024-11-04 12:25:12,629 - nccs.analysis - INFO - Direct output will be saved to /Users/marcelserina/Dev/nccs-supply-chain/results/calibration_v1/RF/2q0/RF_2q0_2c659e12/direct\n",
      "2024-11-04 12:25:12,630 - nccs.analysis - INFO - \n",
      "\n",
      "RUNNING DIRECT IMPACT CALCULATIONS\n",
      "2024-11-04 12:25:12,631 - nccs.analysis - INFO - There are 1 direct impacts to calculate. (0 exist already. Full analysis has 1 impacts.)\n",
      "I am here\n",
      "custom\n",
      "Index(['v_half'], dtype='object')\n",
      "blah\n",
      "2024-11-04 12:25:19,871 - nccs.analysis - INFO - Skipping yearset calculations. Set do_yearsets: True in your config to change this\n",
      "2024-11-04 12:25:19,872 - nccs.analysis - INFO - Skipping multihazard impact calculations. Set do_multihazard: True in your config to change this\n",
      "2024-11-04 12:25:19,873 - nccs.analysis - INFO - \n",
      "\n",
      "MODELLING SUPPLY CHAINS\n",
      "2024-11-04 12:25:19,875 - nccs.analysis - INFO - There are 0 out of 1 supply chains to calculate\n",
      "2024-11-04 12:25:19,875 - nccs.analysis - INFO - Skipping supply chain calculations. Set do_indirect: True in your config to change this\n",
      "2024-11-04 12:25:19,877 - nccs.analysis - INFO - \n",
      "\n",
      "Done!\n",
      "To show the Dashboard run:\n",
      "bokeh serve dashboard.py --show\n",
      "2024-11-04 12:25:19,877 - nccs.analysis - INFO - Don't forget to update the current run title within the dashboard.py script: RUN_TITLE\n",
      "2024-11-04 12:25:19,887 - calibration.base - DEBUG - Saving results to disk: /Users/marcelserina/Dev/nccs-supply-chain/results/calibration_v1/RF/2q0/RF_2q0_2c659e12/direct/reproduced_obs.csv\n",
      "2024-11-04 12:25:19,890 - calibration.base - DEBUG - Cleaning up\n",
      "2024-11-04 12:25:19,892 - calibration.base - INFO - Model pipeline execution took 0:00:07.267413\n",
      "2024-11-04 12:25:19,899 - calibration.bayesian_optimizer - DEBUG - Probing params: {'v_half': 0.9767644606323354}\n",
      "2024-11-04 12:25:19,900 - calibration.base - DEBUG - This run has no previous data saved to disk or cache: we will run the modelling chain. Run title calibration_v1/RF/2q0/RF_2q0_e09c5240\n",
      "2024-11-04 12:25:19,901 - calibration.base - DEBUG - Writing new impact functions\n",
      "2024-11-04 12:25:19,903 - calibration.base - DEBUG - Running the pipeline and getting results\n",
      "2024-11-04 12:25:19,903 - nccs.analysis - INFO - To change the logging level of CLIMADA, edit climada.conf in the root directory and set log_level to INFO or DEBUG.Current level is WARNING\n",
      "2024-11-04 12:25:19,904 - nccs.analysis - INFO - NCCS PIPELINE: calibration_v1/RF/2q0/RF_2q0_e09c5240\n",
      "2024-11-04 12:25:19,905 - nccs.analysis - INFO - Direct output will be saved to /Users/marcelserina/Dev/nccs-supply-chain/results/calibration_v1/RF/2q0/RF_2q0_e09c5240/direct\n",
      "2024-11-04 12:25:19,906 - nccs.analysis - INFO - \n",
      "\n",
      "RUNNING DIRECT IMPACT CALCULATIONS\n",
      "2024-11-04 12:25:19,907 - nccs.analysis - INFO - There are 1 direct impacts to calculate. (0 exist already. Full analysis has 1 impacts.)\n",
      "I am here\n",
      "custom\n",
      "Index(['v_half'], dtype='object')\n",
      "blah\n",
      "2024-11-04 12:25:27,350 - nccs.analysis - INFO - Skipping yearset calculations. Set do_yearsets: True in your config to change this\n",
      "2024-11-04 12:25:27,352 - nccs.analysis - INFO - Skipping multihazard impact calculations. Set do_multihazard: True in your config to change this\n",
      "2024-11-04 12:25:27,352 - nccs.analysis - INFO - \n",
      "\n",
      "MODELLING SUPPLY CHAINS\n",
      "2024-11-04 12:25:27,354 - nccs.analysis - INFO - There are 0 out of 1 supply chains to calculate\n",
      "2024-11-04 12:25:27,354 - nccs.analysis - INFO - Skipping supply chain calculations. Set do_indirect: True in your config to change this\n",
      "2024-11-04 12:25:27,356 - nccs.analysis - INFO - \n",
      "\n",
      "Done!\n",
      "To show the Dashboard run:\n",
      "bokeh serve dashboard.py --show\n",
      "2024-11-04 12:25:27,356 - nccs.analysis - INFO - Don't forget to update the current run title within the dashboard.py script: RUN_TITLE\n",
      "2024-11-04 12:25:27,366 - calibration.base - DEBUG - Saving results to disk: /Users/marcelserina/Dev/nccs-supply-chain/results/calibration_v1/RF/2q0/RF_2q0_e09c5240/direct/reproduced_obs.csv\n",
      "2024-11-04 12:25:27,370 - calibration.base - DEBUG - Cleaning up\n",
      "2024-11-04 12:25:27,371 - calibration.base - INFO - Model pipeline execution took 0:00:07.471054\n",
      "2024-11-04 12:25:27,394 - calibration.bayesian_optimizer - DEBUG - Probing params: {'v_half': 3.0}\n",
      "2024-11-04 12:25:27,394 - calibration.base - DEBUG - This run has no previous data saved to disk or cache: we will run the modelling chain. Run title calibration_v1/RF/2q0/RF_2q0_1c977429\n",
      "2024-11-04 12:25:27,395 - calibration.base - DEBUG - Writing new impact functions\n",
      "2024-11-04 12:25:27,396 - calibration.base - DEBUG - Running the pipeline and getting results\n",
      "2024-11-04 12:25:27,396 - nccs.analysis - INFO - To change the logging level of CLIMADA, edit climada.conf in the root directory and set log_level to INFO or DEBUG.Current level is WARNING\n",
      "2024-11-04 12:25:27,397 - nccs.analysis - INFO - NCCS PIPELINE: calibration_v1/RF/2q0/RF_2q0_1c977429\n",
      "2024-11-04 12:25:27,398 - nccs.analysis - INFO - Direct output will be saved to /Users/marcelserina/Dev/nccs-supply-chain/results/calibration_v1/RF/2q0/RF_2q0_1c977429/direct\n",
      "2024-11-04 12:25:27,399 - nccs.analysis - INFO - \n",
      "\n",
      "RUNNING DIRECT IMPACT CALCULATIONS\n",
      "2024-11-04 12:25:27,399 - nccs.analysis - INFO - There are 1 direct impacts to calculate. (0 exist already. Full analysis has 1 impacts.)\n",
      "I am here\n",
      "custom\n",
      "Index(['v_half'], dtype='object')\n",
      "blah\n",
      "2024-11-04 12:25:34,826 - nccs.analysis - INFO - Skipping yearset calculations. Set do_yearsets: True in your config to change this\n",
      "2024-11-04 12:25:34,828 - nccs.analysis - INFO - Skipping multihazard impact calculations. Set do_multihazard: True in your config to change this\n",
      "2024-11-04 12:25:34,829 - nccs.analysis - INFO - \n",
      "\n",
      "MODELLING SUPPLY CHAINS\n",
      "2024-11-04 12:25:34,830 - nccs.analysis - INFO - There are 0 out of 1 supply chains to calculate\n",
      "2024-11-04 12:25:34,830 - nccs.analysis - INFO - Skipping supply chain calculations. Set do_indirect: True in your config to change this\n",
      "2024-11-04 12:25:34,832 - nccs.analysis - INFO - \n",
      "\n",
      "Done!\n",
      "To show the Dashboard run:\n",
      "bokeh serve dashboard.py --show\n",
      "2024-11-04 12:25:34,832 - nccs.analysis - INFO - Don't forget to update the current run title within the dashboard.py script: RUN_TITLE\n",
      "2024-11-04 12:25:34,840 - calibration.base - DEBUG - Saving results to disk: /Users/marcelserina/Dev/nccs-supply-chain/results/calibration_v1/RF/2q0/RF_2q0_1c977429/direct/reproduced_obs.csv\n",
      "2024-11-04 12:25:34,842 - calibration.base - DEBUG - Cleaning up\n",
      "2024-11-04 12:25:34,843 - calibration.base - INFO - Model pipeline execution took 0:00:07.448330\n",
      "2024-11-04 12:25:34,865 - calibration.bayesian_optimizer - DEBUG - Probing params: {'v_half': 3.0}\n",
      "2024-11-04 12:25:34,866 - calibration.base - DEBUG - Reading previous model output for this parameter combination: /Users/marcelserina/Dev/nccs-supply-chain/results/calibration_v1/RF/2q0/RF_2q0_1c977429/direct/reproduced_obs.csv\n",
      "\u001b[31mData point [3.] is not unique. 1 duplicates registered. Continuing ...\u001b[39m\n",
      "2024-11-04 12:25:34,885 - calibration.bayesian_optimizer - DEBUG - Probing params: {'v_half': 3.0}\n",
      "2024-11-04 12:25:34,886 - calibration.base - DEBUG - Reading previous model output for this parameter combination: /Users/marcelserina/Dev/nccs-supply-chain/results/calibration_v1/RF/2q0/RF_2q0_1c977429/direct/reproduced_obs.csv\n",
      "\u001b[31mData point [3.] is not unique. 2 duplicates registered. Continuing ...\u001b[39m\n",
      "2024-11-04 12:25:34,905 - calibration.bayesian_optimizer - DEBUG - Probing params: {'v_half': 3.0}\n",
      "2024-11-04 12:25:34,905 - calibration.base - DEBUG - Reading previous model output for this parameter combination: /Users/marcelserina/Dev/nccs-supply-chain/results/calibration_v1/RF/2q0/RF_2q0_1c977429/direct/reproduced_obs.csv\n",
      "\u001b[31mData point [3.] is not unique. 3 duplicates registered. Continuing ...\u001b[39m\n",
      "2024-11-04 12:25:34,914 - climada.util.calibrate.bayesian_optimizer - INFO - Optimization iteration: 1\n",
      "2024-11-04 12:25:34,915 - calibration.bayesian_optimizer - DEBUG - Probing params: {'v_half': 0.5255920833696278}\n",
      "2024-11-04 12:25:34,915 - calibration.base - DEBUG - This run has no previous data saved to disk or cache: we will run the modelling chain. Run title calibration_v1/RF/2q0/RF_2q0_0ebe9d82\n",
      "2024-11-04 12:25:34,916 - calibration.base - DEBUG - Writing new impact functions\n",
      "2024-11-04 12:25:34,917 - calibration.base - DEBUG - Running the pipeline and getting results\n",
      "2024-11-04 12:25:34,917 - nccs.analysis - INFO - To change the logging level of CLIMADA, edit climada.conf in the root directory and set log_level to INFO or DEBUG.Current level is WARNING\n",
      "2024-11-04 12:25:34,918 - nccs.analysis - INFO - NCCS PIPELINE: calibration_v1/RF/2q0/RF_2q0_0ebe9d82\n",
      "2024-11-04 12:25:34,919 - nccs.analysis - INFO - Direct output will be saved to /Users/marcelserina/Dev/nccs-supply-chain/results/calibration_v1/RF/2q0/RF_2q0_0ebe9d82/direct\n",
      "2024-11-04 12:25:34,921 - nccs.analysis - INFO - \n",
      "\n",
      "RUNNING DIRECT IMPACT CALCULATIONS\n",
      "2024-11-04 12:25:34,921 - nccs.analysis - INFO - There are 1 direct impacts to calculate. (0 exist already. Full analysis has 1 impacts.)\n",
      "I am here\n",
      "custom\n",
      "Index(['v_half'], dtype='object')\n",
      "blah\n",
      "2024-11-04 12:25:42,404 - nccs.analysis - INFO - Skipping yearset calculations. Set do_yearsets: True in your config to change this\n",
      "2024-11-04 12:25:42,406 - nccs.analysis - INFO - Skipping multihazard impact calculations. Set do_multihazard: True in your config to change this\n",
      "2024-11-04 12:25:42,406 - nccs.analysis - INFO - \n",
      "\n",
      "MODELLING SUPPLY CHAINS\n",
      "2024-11-04 12:25:42,408 - nccs.analysis - INFO - There are 0 out of 1 supply chains to calculate\n",
      "2024-11-04 12:25:42,408 - nccs.analysis - INFO - Skipping supply chain calculations. Set do_indirect: True in your config to change this\n",
      "2024-11-04 12:25:42,410 - nccs.analysis - INFO - \n",
      "\n",
      "Done!\n",
      "To show the Dashboard run:\n",
      "bokeh serve dashboard.py --show\n",
      "2024-11-04 12:25:42,410 - nccs.analysis - INFO - Don't forget to update the current run title within the dashboard.py script: RUN_TITLE\n",
      "2024-11-04 12:25:42,417 - calibration.base - DEBUG - Saving results to disk: /Users/marcelserina/Dev/nccs-supply-chain/results/calibration_v1/RF/2q0/RF_2q0_0ebe9d82/direct/reproduced_obs.csv\n",
      "2024-11-04 12:25:42,420 - calibration.base - DEBUG - Cleaning up\n",
      "2024-11-04 12:25:42,420 - calibration.base - INFO - Model pipeline execution took 0:00:07.505408\n",
      "2024-11-04 12:25:42,428 - calibration.bayesian_optimizer - DEBUG - Probing params: {'v_half': 0.3677819248295136}\n",
      "2024-11-04 12:25:42,429 - calibration.base - DEBUG - This run has no previous data saved to disk or cache: we will run the modelling chain. Run title calibration_v1/RF/2q0/RF_2q0_557d8dab\n",
      "2024-11-04 12:25:42,430 - calibration.base - DEBUG - Writing new impact functions\n",
      "2024-11-04 12:25:42,431 - calibration.base - DEBUG - Running the pipeline and getting results\n",
      "2024-11-04 12:25:42,431 - nccs.analysis - INFO - To change the logging level of CLIMADA, edit climada.conf in the root directory and set log_level to INFO or DEBUG.Current level is WARNING\n",
      "2024-11-04 12:25:42,431 - nccs.analysis - INFO - NCCS PIPELINE: calibration_v1/RF/2q0/RF_2q0_557d8dab\n",
      "2024-11-04 12:25:42,432 - nccs.analysis - INFO - Direct output will be saved to /Users/marcelserina/Dev/nccs-supply-chain/results/calibration_v1/RF/2q0/RF_2q0_557d8dab/direct\n",
      "2024-11-04 12:25:42,435 - nccs.analysis - INFO - \n",
      "\n",
      "RUNNING DIRECT IMPACT CALCULATIONS\n",
      "2024-11-04 12:25:42,435 - nccs.analysis - INFO - There are 1 direct impacts to calculate. (0 exist already. Full analysis has 1 impacts.)\n",
      "I am here\n",
      "custom\n",
      "Index(['v_half'], dtype='object')\n",
      "blah\n",
      "2024-11-04 12:25:49,598 - nccs.analysis - INFO - Skipping yearset calculations. Set do_yearsets: True in your config to change this\n",
      "2024-11-04 12:25:49,600 - nccs.analysis - INFO - Skipping multihazard impact calculations. Set do_multihazard: True in your config to change this\n",
      "2024-11-04 12:25:49,600 - nccs.analysis - INFO - \n",
      "\n",
      "MODELLING SUPPLY CHAINS\n",
      "2024-11-04 12:25:49,601 - nccs.analysis - INFO - There are 0 out of 1 supply chains to calculate\n",
      "2024-11-04 12:25:49,602 - nccs.analysis - INFO - Skipping supply chain calculations. Set do_indirect: True in your config to change this\n",
      "2024-11-04 12:25:49,603 - nccs.analysis - INFO - \n",
      "\n",
      "Done!\n",
      "To show the Dashboard run:\n",
      "bokeh serve dashboard.py --show\n",
      "2024-11-04 12:25:49,603 - nccs.analysis - INFO - Don't forget to update the current run title within the dashboard.py script: RUN_TITLE\n",
      "2024-11-04 12:25:49,611 - calibration.base - DEBUG - Saving results to disk: /Users/marcelserina/Dev/nccs-supply-chain/results/calibration_v1/RF/2q0/RF_2q0_557d8dab/direct/reproduced_obs.csv\n",
      "2024-11-04 12:25:49,614 - calibration.base - DEBUG - Cleaning up\n",
      "2024-11-04 12:25:49,615 - calibration.base - INFO - Model pipeline execution took 0:00:07.185655\n",
      "2024-11-04 12:25:49,623 - calibration.bayesian_optimizer - DEBUG - Probing params: {'v_half': 0.6401546129952456}\n",
      "2024-11-04 12:25:49,623 - calibration.base - DEBUG - This run has no previous data saved to disk or cache: we will run the modelling chain. Run title calibration_v1/RF/2q0/RF_2q0_c1851d22\n",
      "2024-11-04 12:25:49,624 - calibration.base - DEBUG - Writing new impact functions\n",
      "2024-11-04 12:25:49,625 - calibration.base - DEBUG - Running the pipeline and getting results\n",
      "2024-11-04 12:25:49,626 - nccs.analysis - INFO - To change the logging level of CLIMADA, edit climada.conf in the root directory and set log_level to INFO or DEBUG.Current level is WARNING\n",
      "2024-11-04 12:25:49,626 - nccs.analysis - INFO - NCCS PIPELINE: calibration_v1/RF/2q0/RF_2q0_c1851d22\n",
      "2024-11-04 12:25:49,627 - nccs.analysis - INFO - Direct output will be saved to /Users/marcelserina/Dev/nccs-supply-chain/results/calibration_v1/RF/2q0/RF_2q0_c1851d22/direct\n",
      "2024-11-04 12:25:49,629 - nccs.analysis - INFO - \n",
      "\n",
      "RUNNING DIRECT IMPACT CALCULATIONS\n",
      "2024-11-04 12:25:49,629 - nccs.analysis - INFO - There are 1 direct impacts to calculate. (0 exist already. Full analysis has 1 impacts.)\n",
      "I am here\n",
      "custom\n",
      "Index(['v_half'], dtype='object')\n",
      "blah\n",
      "2024-11-04 12:25:57,062 - nccs.analysis - INFO - Skipping yearset calculations. Set do_yearsets: True in your config to change this\n",
      "2024-11-04 12:25:57,064 - nccs.analysis - INFO - Skipping multihazard impact calculations. Set do_multihazard: True in your config to change this\n",
      "2024-11-04 12:25:57,064 - nccs.analysis - INFO - \n",
      "\n",
      "MODELLING SUPPLY CHAINS\n",
      "2024-11-04 12:25:57,065 - nccs.analysis - INFO - There are 0 out of 1 supply chains to calculate\n",
      "2024-11-04 12:25:57,066 - nccs.analysis - INFO - Skipping supply chain calculations. Set do_indirect: True in your config to change this\n",
      "2024-11-04 12:25:57,068 - nccs.analysis - INFO - \n",
      "\n",
      "Done!\n",
      "To show the Dashboard run:\n",
      "bokeh serve dashboard.py --show\n",
      "2024-11-04 12:25:57,068 - nccs.analysis - INFO - Don't forget to update the current run title within the dashboard.py script: RUN_TITLE\n",
      "2024-11-04 12:25:57,079 - calibration.base - DEBUG - Saving results to disk: /Users/marcelserina/Dev/nccs-supply-chain/results/calibration_v1/RF/2q0/RF_2q0_c1851d22/direct/reproduced_obs.csv\n",
      "2024-11-04 12:25:57,082 - calibration.base - DEBUG - Cleaning up\n",
      "2024-11-04 12:25:57,083 - calibration.base - INFO - Model pipeline execution took 0:00:07.459237\n",
      "2024-11-04 12:25:57,090 - calibration.bayesian_optimizer - DEBUG - Probing params: {'v_half': 1.1021261084248384}\n",
      "2024-11-04 12:25:57,091 - calibration.base - DEBUG - This run has no previous data saved to disk or cache: we will run the modelling chain. Run title calibration_v1/RF/2q0/RF_2q0_9b48b31e\n",
      "2024-11-04 12:25:57,092 - calibration.base - DEBUG - Writing new impact functions\n",
      "2024-11-04 12:25:57,094 - calibration.base - DEBUG - Running the pipeline and getting results\n",
      "2024-11-04 12:25:57,094 - nccs.analysis - INFO - To change the logging level of CLIMADA, edit climada.conf in the root directory and set log_level to INFO or DEBUG.Current level is WARNING\n",
      "2024-11-04 12:25:57,095 - nccs.analysis - INFO - NCCS PIPELINE: calibration_v1/RF/2q0/RF_2q0_9b48b31e\n",
      "2024-11-04 12:25:57,096 - nccs.analysis - INFO - Direct output will be saved to /Users/marcelserina/Dev/nccs-supply-chain/results/calibration_v1/RF/2q0/RF_2q0_9b48b31e/direct\n",
      "2024-11-04 12:25:57,097 - nccs.analysis - INFO - \n",
      "\n",
      "RUNNING DIRECT IMPACT CALCULATIONS\n",
      "2024-11-04 12:25:57,098 - nccs.analysis - INFO - There are 1 direct impacts to calculate. (0 exist already. Full analysis has 1 impacts.)\n",
      "I am here\n",
      "custom\n",
      "Index(['v_half'], dtype='object')\n",
      "blah\n",
      "2024-11-04 12:26:04,626 - nccs.analysis - INFO - Skipping yearset calculations. Set do_yearsets: True in your config to change this\n",
      "2024-11-04 12:26:04,628 - nccs.analysis - INFO - Skipping multihazard impact calculations. Set do_multihazard: True in your config to change this\n",
      "2024-11-04 12:26:04,628 - nccs.analysis - INFO - \n",
      "\n",
      "MODELLING SUPPLY CHAINS\n",
      "2024-11-04 12:26:04,629 - nccs.analysis - INFO - There are 0 out of 1 supply chains to calculate\n",
      "2024-11-04 12:26:04,630 - nccs.analysis - INFO - Skipping supply chain calculations. Set do_indirect: True in your config to change this\n",
      "2024-11-04 12:26:04,632 - nccs.analysis - INFO - \n",
      "\n",
      "Done!\n",
      "To show the Dashboard run:\n",
      "bokeh serve dashboard.py --show\n",
      "2024-11-04 12:26:04,632 - nccs.analysis - INFO - Don't forget to update the current run title within the dashboard.py script: RUN_TITLE\n",
      "2024-11-04 12:26:04,642 - calibration.base - DEBUG - Saving results to disk: /Users/marcelserina/Dev/nccs-supply-chain/results/calibration_v1/RF/2q0/RF_2q0_9b48b31e/direct/reproduced_obs.csv\n",
      "2024-11-04 12:26:04,646 - calibration.base - DEBUG - Cleaning up\n",
      "2024-11-04 12:26:04,648 - calibration.base - INFO - Model pipeline execution took 0:00:07.556039\n",
      "2024-11-04 12:26:04,674 - calibration.bayesian_optimizer - DEBUG - Probing params: {'v_half': 3.0}\n",
      "2024-11-04 12:26:04,675 - calibration.base - DEBUG - Reading previous model output for this parameter combination: /Users/marcelserina/Dev/nccs-supply-chain/results/calibration_v1/RF/2q0/RF_2q0_1c977429/direct/reproduced_obs.csv\n",
      "\u001b[31mData point [3.] is not unique. 4 duplicates registered. Continuing ...\u001b[39m\n",
      "2024-11-04 12:26:04,703 - calibration.bayesian_optimizer - DEBUG - Probing params: {'v_half': 3.0}\n",
      "2024-11-04 12:26:04,704 - calibration.base - DEBUG - Reading previous model output for this parameter combination: /Users/marcelserina/Dev/nccs-supply-chain/results/calibration_v1/RF/2q0/RF_2q0_1c977429/direct/reproduced_obs.csv\n",
      "\u001b[31mData point [3.] is not unique. 5 duplicates registered. Continuing ...\u001b[39m\n",
      "2024-11-04 12:26:04,727 - calibration.bayesian_optimizer - DEBUG - Probing params: {'v_half': 3.0}\n",
      "2024-11-04 12:26:04,727 - calibration.base - DEBUG - Reading previous model output for this parameter combination: /Users/marcelserina/Dev/nccs-supply-chain/results/calibration_v1/RF/2q0/RF_2q0_1c977429/direct/reproduced_obs.csv\n",
      "\u001b[31mData point [3.] is not unique. 6 duplicates registered. Continuing ...\u001b[39m\n",
      "2024-11-04 12:26:04,755 - calibration.bayesian_optimizer - DEBUG - Probing params: {'v_half': 3.0}\n",
      "2024-11-04 12:26:04,755 - calibration.base - DEBUG - Reading previous model output for this parameter combination: /Users/marcelserina/Dev/nccs-supply-chain/results/calibration_v1/RF/2q0/RF_2q0_1c977429/direct/reproduced_obs.csv\n",
      "\u001b[31mData point [3.] is not unique. 7 duplicates registered. Continuing ...\u001b[39m\n",
      "2024-11-04 12:26:04,763 - climada.util.calibrate.bayesian_optimizer - INFO - No improvement. Stop optimization.\n",
      "2024-11-04 12:26:04,764 - calibration.bayesian_optimizer - INFO - Optimisation complete. Time taken: 0:01:14.748362\n"
     ]
    }
   ],
   "source": [
    "from climada.util import log_level\n",
    "\n",
    "logging.getLogger('calibration').setLevel(logging.DEBUG)\n",
    "\n",
    "\n",
    "# Define calibration input\n",
    "with log_level(\"WARNING\", name_prefix=\"climada\"):\n",
    "    with log_level(\"INFO\", name_prefix=\"climada.util.calibrate\"):\n",
    "        input = NCCSInput(\n",
    "            config = config_template,\n",
    "            data = obs,\n",
    "            write_impact_functions = write_regional_rf_impact_function,\n",
    "            return_period_impacts_from_config = return_period_impacts_from_config,\n",
    "            cost_func = cost_function,\n",
    "            bounds = bounds,\n",
    "            constraints = constraints,\n",
    "            #linear_param='scale'\n",
    "            # results_file='SI_results.csv'\n",
    "        )\n",
    "\n",
    "        # Create and run the optimizer\n",
    "        opt = NCCSBayesianOptimizer(input)\n",
    "        controller = NCCSBayesianOptimizerController.from_input(input)\n",
    "        bayes_output = opt.run(controller)\n",
    "        bayes_output.params  # The optimal parameters"
   ]
  },
  {
   "cell_type": "code",
   "execution_count": 13,
   "metadata": {},
   "outputs": [
    {
     "data": {
      "text/plain": [
       "NCCSBayesianOptimizerOutput(params={'v_half': 3.0}, target=-762492289.5342906, p_space=<bayes_opt.target_space.TargetSpace object at 0x173cc0f10>)"
      ]
     },
     "execution_count": 13,
     "metadata": {},
     "output_type": "execute_result"
    }
   ],
   "source": [
    "bayes_output"
   ]
  },
  {
   "cell_type": "code",
   "execution_count": 15,
   "metadata": {},
   "outputs": [],
   "source": [
    "output_dir = Path(folder_naming.get_direct_output_dir(config_template['run_title'])).parent.parent\n",
    "calibration_output_path = Path(output_dir, 'optimisation_output.hdf5')"
   ]
  },
  {
   "cell_type": "code",
   "execution_count": 16,
   "metadata": {},
   "outputs": [],
   "source": [
    "# Save output to file\n",
    "bayes_output.to_hdf5(calibration_output_path)"
   ]
  },
  {
   "cell_type": "code",
   "execution_count": 9,
   "metadata": {},
   "outputs": [],
   "source": [
    "# Upload the output to S3\n",
    "from utils.s3client import upload_project_folder_to_s3\n",
    "upload_project_folder_to_s3(project_folder)"
   ]
  },
  {
   "cell_type": "code",
   "execution_count": null,
   "metadata": {},
   "outputs": [],
   "source": [
    "# Read output from file\n",
    "from calibration.bayesian_optimizer import NCCSBayesianOptimizerOutput\n",
    "bayes_output = NCCSBayesianOptimizerOutput.from_hdf5(calibration_output_path)"
   ]
  },
  {
   "cell_type": "markdown",
   "metadata": {},
   "source": [
    "## Evaluate Output"
   ]
  },
  {
   "attachments": {},
   "cell_type": "markdown",
   "metadata": {},
   "source": [
    "The Bayesian Optimizer returns the entire paramter space it sampled and we can investigate the cost function's behaviour within this space.\n",
    "\n",
    "Here we print the samples examined by the optimizer. Notice that the optimal parameter set is not necessarily the last entry in the parameter space!"
   ]
  },
  {
   "cell_type": "code",
   "execution_count": null,
   "metadata": {},
   "outputs": [],
   "source": [
    "p_space_df = bayes_output.p_space_to_dataframe()\n",
    "p_space_df"
   ]
  },
  {
   "cell_type": "markdown",
   "metadata": {},
   "source": [
    "In contrast, the controller only tracks the consecutive improvements of the best guess:"
   ]
  },
  {
   "cell_type": "code",
   "execution_count": null,
   "metadata": {},
   "outputs": [],
   "source": [
    "controller.improvements()"
   ]
  },
  {
   "attachments": {},
   "cell_type": "markdown",
   "metadata": {},
   "source": [
    "Notice that the optimal parameter set is not necessarily the last entry in the parameter space!\n",
    "Therefore, let's order the parameter space by the ascending cost function values."
   ]
  },
  {
   "cell_type": "code",
   "execution_count": null,
   "metadata": {},
   "outputs": [],
   "source": [
    "p_space_df = p_space_df.sort_values((\"Calibration\", \"Cost Function\"), ascending=True)\n",
    "p_space_df"
   ]
  },
  {
   "cell_type": "markdown",
   "metadata": {},
   "source": [
    "We can then plot the cost function within the parameter space:"
   ]
  },
  {
   "cell_type": "code",
   "execution_count": null,
   "metadata": {},
   "outputs": [],
   "source": [
    "import matplotlib as mpl\n",
    "bayes_output.plot_p_space(title = 'Cost function within parameter space')\n",
    "bayes_output.plot_p_space(norm = mpl.colors.LogNorm(), title = 'Cost function within parameter space (log colour scale)')"
   ]
  },
  {
   "cell_type": "markdown",
   "metadata": {},
   "source": [
    "And print the 'optimal' parameters"
   ]
  },
  {
   "cell_type": "code",
   "execution_count": null,
   "metadata": {},
   "outputs": [],
   "source": [
    "# optimal_params = p_space_df[\"Parameters\"].iloc[0, :].to_dict()\n",
    "optimal_params = bayes_output.get_optimal_params()\n",
    "optimal_params"
   ]
  },
  {
   "attachments": {},
   "cell_type": "markdown",
   "metadata": {},
   "source": [
    "## Analyze the Calibration\n",
    "\n",
    "Let's see how the models perform.\n",
    "\n",
    "### Fitted impact functions\n",
    "\n",
    "We can look at the fitted impact functions"
   ]
  },
  {
   "cell_type": "code",
   "execution_count": null,
   "metadata": {},
   "outputs": [],
   "source": [
    "parameter_df = p_space_df['Parameters']\n",
    "cost_df = p_space_df['Calibration']\n",
    "\n",
    "n_samples = 300\n",
    "\n",
    "n_iters = p_space_df.shape[0]\n",
    "samples = np.random.randint(0, n_iters, size=n_samples)\n",
    "\n",
    "param_samples = [parameter_df.iloc[i,] for i in samples]\n",
    "cost_samples = [cost_df.iloc[i,]['Cost Function'] for i in samples]\n",
    "norm = mpl.colors.LogNorm(vmin=min(cost_samples), vmax=max(cost_samples))\n",
    "cmap = cm.get_cmap('viridis_r')\n",
    "\n",
    "_, ax = plt.subplots()\n",
    "for cost, params in zip(cost_samples, param_samples):\n",
    "    impf = impf_from_params(params)\n",
    "    ax.plot(\n",
    "        np.arange(1,121),\n",
    "        impf.calc_mdr(np.arange(1,121)),\n",
    "        color = cmap(norm(cost)),\n",
    "    )\n",
    "\n",
    "best_impf = impf_from_params(optimal_params)\n",
    "ax.plot(\n",
    "    np.arange(1,121),\n",
    "    best_impf.calc_mdr(np.arange(1,121)),\n",
    "    color='red',\n",
    ")\n",
    "\n",
    "ax.set_xlim([25, 70])\n",
    "plt.show()"
   ]
  },
  {
   "cell_type": "markdown",
   "metadata": {},
   "source": [
    "### Exceedance curves\n",
    "\n",
    "Next we'll compare modelled return periods curves.\n",
    "\n",
    "To do this we'll get the optimal model output:"
   ]
  },
  {
   "cell_type": "code",
   "execution_count": 24,
   "metadata": {},
   "outputs": [],
   "source": [
    "from utils import folder_naming\n",
    "import hashlib\n",
    "\n",
    "# TODO make a more user-friendly way to access these\n",
    "\n",
    "def get_saved_results():\n",
    "    output_dir = Path(folder_naming.get_direct_output_dir(config_template['run_title'])).parent.parent\n",
    "    output_folders = os.listdir(output_dir)\n",
    "    return [pd.read_csv(Path(output_dir, d, 'direct', 'reproduced_obs.csv')) for d in output_folders if d != 'optimisation_output.hdf5']\n",
    "    \n",
    "\n",
    "def get_results_from_params(params):\n",
    "    run_title = config_template['run_title'] + NCCSBayesianOptimizer.hash_params(params)\n",
    "    direct_output_dir = folder_naming.get_direct_output_dir(run_title)\n",
    "    results_path = Path(direct_output_dir, 'reproduced_obs.csv')\n",
    "    return pd.read_csv(results_path)\n",
    "\n",
    "optimal_df = get_results_from_params(optimal_params)"
   ]
  },
  {
   "cell_type": "code",
   "execution_count": null,
   "metadata": {},
   "outputs": [],
   "source": [
    "n_plot_rows = int(np.ceil(len(countries) / 3))\n",
    "_, axs = plt.subplots(ncols=3, nrows=n_plot_rows, figsize=(6, 2*n_plot_rows+1))\n",
    "\n",
    "for c, ax in zip(countries, axs):\n",
    "    country = pycountry.countries.get(name=c).alpha_3\n",
    "    obs[obs['country'] == country].plot(x='rp', y='impact', label='Observations', color='black', title=c, ax=ax)\n",
    "    optimal_df[optimal_df['country'] == country].plot(x='rp', y='impact', label='Optimised model', color='green', ax=ax)\n",
    "    ax.set_xlim([0, 100])\n",
    "plt.show()"
   ]
  },
  {
   "cell_type": "markdown",
   "metadata": {},
   "source": [
    "And we can look at the range of fits:"
   ]
  },
  {
   "cell_type": "code",
   "execution_count": 26,
   "metadata": {},
   "outputs": [],
   "source": [
    "parameter_df = p_space_df['Parameters']\n",
    "cost_df = p_space_df['Calibration']\n",
    "\n",
    "saved_results = get_saved_results()"
   ]
  },
  {
   "cell_type": "code",
   "execution_count": null,
   "metadata": {},
   "outputs": [],
   "source": [
    "n_iters = len(saved_results)\n",
    "samples = np.random.randint(0, n_iters, 100)\n",
    "\n",
    "for c in countries:\n",
    "    country = pycountry.countries.get(name=c).alpha_3\n",
    "    fig, ax = plt.subplots()\n",
    "    for i in samples:\n",
    "        df = saved_results[i]\n",
    "        cost = cost_function(obs[['country', 'impact', 'rp']], df[['country', 'impact', 'rp']])\n",
    "        # print('these results')\n",
    "        # print(df)\n",
    "        # print('obs')\n",
    "        # print(obs)\n",
    "        df[df['country'] == country].plot(x='rp', y='impact', legend=False, color=cmap(norm(cost)), ax=ax)\n",
    "        # break\n",
    "    obs[obs['country'] == country].plot(x='rp', y='impact', label='Observations', color='black', ax=ax)\n",
    "    optimal_df[optimal_df['country'] == country].plot(x='rp', y='impact', label='Optimised model', color='green', ax=ax)\n",
    "    ax.set_xlim([0, 200])\n",
    "    plt.show()"
   ]
  },
  {
   "cell_type": "code",
   "execution_count": null,
   "metadata": {},
   "outputs": [],
   "source": [
    "# Testing cost functions...\n",
    "import matplotlib.cm as cm\n",
    "from calibration.rp_errors import merge_outputs_and_obs\n",
    "country = 'MOZ'\n",
    "fig, ax = plt.subplots()\n",
    "\n",
    "norm = plt.Normalize(min(cost_df['Cost Function']), max(cost_df['Cost Function']))\n",
    "cmap = cm.get_cmap('viridis')  # Choose a colormap\n",
    "\n",
    "for i in samples:\n",
    "    try:\n",
    "        params = parameter_df.iloc[i,].to_dict()\n",
    "        cost = cost_df.iloc[i,].to_dict()['Cost Function']\n",
    "        df = get_results_from_params(params)\n",
    "        print((params, cost))\n",
    "        rps = merge_outputs_and_obs(df, obs)\n",
    "        colour = cmap(norm(cost))\n",
    "        df[df['country'] == country].plot(x='rp', y='impact', label=None, color=colour, ax=ax)\n",
    "    except FileNotFoundError:\n",
    "        pass\n",
    "\n",
    "rps[rps['country'] == country].plot(x='rp', y='obs', label='Observations', color='black', ax=ax)\n",
    "plt.show()\n"
   ]
  },
  {
   "cell_type": "markdown",
   "metadata": {},
   "source": [
    "# The optimised impact function"
   ]
  },
  {
   "cell_type": "code",
   "execution_count": null,
   "metadata": {},
   "outputs": [],
   "source": [
    "from pipeline.direct.direct import apply_sector_impf_set\n",
    "from climada.entity import ImpfTropCyclone, ImpactFuncSet\n",
    "\n",
    "impf_best_guesstimate = apply_sector_impf_set(\"tropical_cyclone\", \"economic_assets\", countries[0], business_interruption=False, calibrated=False)\n",
    "impf_best_guesstimate.name = 'Best guesstimate'\n",
    "\n",
    "def get_impact_function_from_params(params):\n",
    "    impf = ImpfTropCyclone.from_emanuel_usa(\n",
    "                scale=params['scale'],\n",
    "                v_thresh=25.8, # params['v_thresh'],\n",
    "                v_half=params['v_half']\n",
    "            )\n",
    "\n",
    "impf_calibrated = get_impact_function_from_params(optimal_params)\n",
    "impf_calibrated.name = \"Optimal\"\n",
    "\n",
    "impf_set = ImpactFuncSet([impf_best_guesstimate, impf_calibrated])\n",
    "impf_set.plot()"
   ]
  },
  {
   "cell_type": "markdown",
   "metadata": {},
   "source": [
    "The CLIMADA analyses have a nice bit of functionality that lets you explore the range of impact functions and the hazards that went into them. They depend on CLIMADA-specific classes, but we can construct them with the data we've created in this notebook and module."
   ]
  },
  {
   "cell_type": "code",
   "execution_count": null,
   "metadata": {},
   "outputs": [],
   "source": [
    "from pipeline.direct import get_hazard, get_sector_exposure\n",
    "from climada.hazard import Hazard\n",
    "from climada.entity import Exposures\n",
    "from climada.util.calibrate import Input, Output, BayesianOptimizerOutputEvaluator\n",
    "\n",
    "haz = Hazard.concat([get_hazard(\"tropical_cyclone\", c, \"None\", \"historical\") for c in countries_iso3alpha])\n",
    "exp = Exposures.concat([get_sector_exposure('economic_assets', c) for c in countries_iso3alpha])\n",
    "\n",
    "bo_input = Input(\n",
    "    hazard = haz,\n",
    "    exposure = exp,\n",
    "    data = None,\n",
    "    impact_func_creator = get_impact_function_from_params,\n",
    "    impact_to_dataframe = None,\n",
    "    cost_func = None,\n",
    "    bounds = None,\n",
    "    constraints = None\n",
    "    # impact_calc_kwds: Mapping[str, Any] = field(\n",
    "    #     default_factory=lambda: {\"assign_centroids\": False}\n",
    "    # )\n",
    "    # missing_data_value: float = np.nan\n",
    "    # assign_centroids: InitVar[bool] = True\n",
    ")\n",
    "\n",
    "bo_output = Output(\n",
    "    params = bayes_output.params,\n",
    "    target = bayes_output.target,\n",
    ")\n",
    "\n",
    "\n",
    "evaluator = BayesianOptimizerOutputEvaluator(\n",
    "    input = bo_input,\n",
    "    output = bo_output,\n",
    "    p_space = opt._space\n",
    ")"
   ]
  },
  {
   "cell_type": "code",
   "execution_count": null,
   "metadata": {},
   "outputs": [],
   "source": [
    "evaluator.plot_impf_variability()"
   ]
  }
 ],
 "metadata": {
  "kernelspec": {
   "display_name": "nccs",
   "language": "python",
   "name": "python3"
  },
  "language_info": {
   "codemirror_mode": {
    "name": "ipython",
    "version": 3
   },
   "file_extension": ".py",
   "mimetype": "text/x-python",
   "name": "python",
   "nbconvert_exporter": "python",
   "pygments_lexer": "ipython3",
   "version": "3.9.18"
  },
  "orig_nbformat": 4
 },
 "nbformat": 4,
 "nbformat_minor": 2
}
