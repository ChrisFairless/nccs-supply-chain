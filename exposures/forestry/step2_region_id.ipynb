{
 "cells": [
  {
   "cell_type": "code",
   "execution_count": 1,
   "id": "8096e4d9-b287-4b0c-8e1c-c0db4a53da30",
   "metadata": {
    "ExecuteTime": {
     "end_time": "2024-01-18T15:31:53.649064600Z",
     "start_time": "2024-01-18T15:31:52.202217900Z"
    }
   },
   "outputs": [
    {
     "name": "stdout",
     "output_type": "stream",
     "text": [
      "Index(['FIPS', 'ISO2', 'ISO3', 'UN', 'NAME', 'AREA', 'POP2005', 'REGION',\n",
      "       'SUBREGION', 'LON', 'LAT', 'geometry'],\n",
      "      dtype='object')\n"
     ]
    }
   ],
   "source": [
    "import pandas as pd\n",
    "import geopandas as gpd\n",
    "import numpy as np\n",
    "from lonlat_to_country import get_country_vectorized_name , get_country_vectorized_ISO, get_country\n",
    "import h5py\n",
    "from shapely import vectorized\n",
    "from tqdm import tqdm\n",
    "import shapely.vectorized\n",
    "import os"
   ]
  },
  {
   "cell_type": "code",
   "execution_count": 2,
   "id": "9dc5cafe-09fc-41b1-ba2d-04f1905516fd",
   "metadata": {
    "ExecuteTime": {
     "end_time": "2024-01-18T15:31:54.574946300Z",
     "start_time": "2024-01-18T15:31:53.894555600Z"
    }
   },
   "outputs": [],
   "source": [
    "_SHAPEFILE = gpd.read_file(\"TM_WORLD_BORDERS-0.3.shp\")"
   ]
  },
  {
   "cell_type": "code",
   "execution_count": 3,
   "id": "a667388a-74c7-4f37-9f18-628f9ba890b7",
   "metadata": {
    "ExecuteTime": {
     "end_time": "2024-01-18T15:32:00.919862100Z",
     "start_time": "2024-01-18T15:31:55.831550600Z"
    }
   },
   "outputs": [],
   "source": [
    "input_file = \"forest_exp_v3.h5\" # file with forest data converted from nc to h5\n",
    "output_file = \"forest_exp_region_final_v2.h5\" # first output for region_id assignment\n",
    "colum_latitude = 'latitude'\n",
    "column_longitude = 'longitude'\n",
    "\n",
    "df = pd.read_hdf(input_file)\n",
    "\n",
    "\n",
    "# Convert string values in latitude and longitude columns \n",
    "df[colum_latitude] = pd.to_numeric(df[colum_latitude], errors='coerce')\n",
    "df[column_longitude] = pd.to_numeric(df[column_longitude], errors='coerce')\n",
    "\n",
    "# Create a GeoDataFrame from the latitude and longitude columns\n",
    "gdf = gpd.GeoDataFrame(df, geometry=gpd.points_from_xy(df[column_longitude], df[colum_latitude]))\n",
    "\n",
    "# Skip rows where latitude or longitude is NaN\n",
    "gdf = gdf.dropna(subset=[column_longitude, colum_latitude])\n",
    "\n"
   ]
  },
  {
   "cell_type": "code",
   "execution_count": 4,
   "id": "905cb7f7-5403-4399-b4b1-1cd3bfb8a380",
   "metadata": {
    "scrolled": true,
    "ExecuteTime": {
     "end_time": "2024-01-18T15:32:01.947574700Z",
     "start_time": "2024-01-18T15:32:01.918046600Z"
    }
   },
   "outputs": [
    {
     "data": {
      "text/plain": "           latitude  longitude  value                     geometry\n4763222   78.804167  11.723611    1.0    POINT (11.72361 78.80417)\n4802069   78.720833  10.806944    1.0    POINT (10.80694 78.72083)\n4892960   78.526389  15.556944    1.0    POINT (15.55694 78.52639)\n5009602   78.276389  15.612500    1.0    POINT (15.61250 78.27639)\n5048732   78.193056  22.556944    1.0    POINT (22.55694 78.19306)\n...             ...        ...    ...                          ...\n67603419 -55.890278 -67.248611    1.0  POINT (-67.24861 -55.89028)\n67603420 -55.890278 -67.220833    1.0  POINT (-67.22083 -55.89028)\n67603424 -55.890278 -67.109722    1.0  POINT (-67.10972 -55.89028)\n67629338 -55.945833 -67.276389    1.0  POINT (-67.27639 -55.94583)\n67642298 -55.973611 -67.276389    1.0  POINT (-67.27639 -55.97361)\n\n[5394069 rows x 4 columns]",
      "text/html": "<div>\n<style scoped>\n    .dataframe tbody tr th:only-of-type {\n        vertical-align: middle;\n    }\n\n    .dataframe tbody tr th {\n        vertical-align: top;\n    }\n\n    .dataframe thead th {\n        text-align: right;\n    }\n</style>\n<table border=\"1\" class=\"dataframe\">\n  <thead>\n    <tr style=\"text-align: right;\">\n      <th></th>\n      <th>latitude</th>\n      <th>longitude</th>\n      <th>value</th>\n      <th>geometry</th>\n    </tr>\n  </thead>\n  <tbody>\n    <tr>\n      <th>4763222</th>\n      <td>78.804167</td>\n      <td>11.723611</td>\n      <td>1.0</td>\n      <td>POINT (11.72361 78.80417)</td>\n    </tr>\n    <tr>\n      <th>4802069</th>\n      <td>78.720833</td>\n      <td>10.806944</td>\n      <td>1.0</td>\n      <td>POINT (10.80694 78.72083)</td>\n    </tr>\n    <tr>\n      <th>4892960</th>\n      <td>78.526389</td>\n      <td>15.556944</td>\n      <td>1.0</td>\n      <td>POINT (15.55694 78.52639)</td>\n    </tr>\n    <tr>\n      <th>5009602</th>\n      <td>78.276389</td>\n      <td>15.612500</td>\n      <td>1.0</td>\n      <td>POINT (15.61250 78.27639)</td>\n    </tr>\n    <tr>\n      <th>5048732</th>\n      <td>78.193056</td>\n      <td>22.556944</td>\n      <td>1.0</td>\n      <td>POINT (22.55694 78.19306)</td>\n    </tr>\n    <tr>\n      <th>...</th>\n      <td>...</td>\n      <td>...</td>\n      <td>...</td>\n      <td>...</td>\n    </tr>\n    <tr>\n      <th>67603419</th>\n      <td>-55.890278</td>\n      <td>-67.248611</td>\n      <td>1.0</td>\n      <td>POINT (-67.24861 -55.89028)</td>\n    </tr>\n    <tr>\n      <th>67603420</th>\n      <td>-55.890278</td>\n      <td>-67.220833</td>\n      <td>1.0</td>\n      <td>POINT (-67.22083 -55.89028)</td>\n    </tr>\n    <tr>\n      <th>67603424</th>\n      <td>-55.890278</td>\n      <td>-67.109722</td>\n      <td>1.0</td>\n      <td>POINT (-67.10972 -55.89028)</td>\n    </tr>\n    <tr>\n      <th>67629338</th>\n      <td>-55.945833</td>\n      <td>-67.276389</td>\n      <td>1.0</td>\n      <td>POINT (-67.27639 -55.94583)</td>\n    </tr>\n    <tr>\n      <th>67642298</th>\n      <td>-55.973611</td>\n      <td>-67.276389</td>\n      <td>1.0</td>\n      <td>POINT (-67.27639 -55.97361)</td>\n    </tr>\n  </tbody>\n</table>\n<p>5394069 rows × 4 columns</p>\n</div>"
     },
     "execution_count": 4,
     "metadata": {},
     "output_type": "execute_result"
    }
   ],
   "source": [
    "gdf"
   ]
  },
  {
   "cell_type": "markdown",
   "id": "1b1f0d5d-919d-4c87-a94d-f9ed458119e6",
   "metadata": {},
   "source": [
    "## Main code to run "
   ]
  },
  {
   "cell_type": "code",
   "execution_count": 5,
   "id": "cd7ce13a-7493-4184-bfca-efa8cd9075ef",
   "metadata": {
    "ExecuteTime": {
     "end_time": "2024-01-18T19:42:41.010789300Z",
     "start_time": "2024-01-18T15:32:20.991294100Z"
    }
   },
   "outputs": [
    {
     "name": "stderr",
     "output_type": "stream",
     "text": [
      "Processing countries: 100%|██████████| 246/246 [4:10:19<00:00, 61.06s/it]  \n"
     ]
    }
   ],
   "source": [
    "def get_country_vectorized_ISO_2(coordinates):\n",
    "    iso3_codes = np.empty(len(coordinates), dtype=object)\n",
    "    for idx, country in tqdm(_SHAPEFILE.iterrows(), total=len(_SHAPEFILE), desc='Processing countries'):        \n",
    "        xs = np.array([point.x for point in coordinates])\n",
    "        ys = np.array([point.y for point in coordinates])\n",
    "        lbls = shapely.vectorized.contains(country.geometry, xs, ys)\n",
    "        iso3_codes[lbls] = country['ISO3']  # Assuming 'iso3' is the column with ISO3 codes in your _SHAPEFILE\n",
    "    return iso3_codes.tolist()\n",
    "\n",
    "\n",
    "# Apply the vectorized function to the entire GeoDataFrame\n",
    "gdf['region_id'] = get_country_vectorized_ISO_2(gdf.geometry) "
   ]
  },
  {
   "cell_type": "code",
   "execution_count": 6,
   "id": "2d4660dc-d36c-4934-b6ef-1eec232667fa",
   "metadata": {
    "ExecuteTime": {
     "end_time": "2024-01-18T19:42:41.023892800Z",
     "start_time": "2024-01-18T19:42:41.014781300Z"
    }
   },
   "outputs": [
    {
     "data": {
      "text/plain": "           latitude  longitude  value                     geometry region_id\n4763222   78.804167  11.723611    1.0    POINT (11.72361 78.80417)      None\n4802069   78.720833  10.806944    1.0    POINT (10.80694 78.72083)       SJM\n4892960   78.526389  15.556944    1.0    POINT (15.55694 78.52639)       SJM\n5009602   78.276389  15.612500    1.0    POINT (15.61250 78.27639)       SJM\n5048732   78.193056  22.556944    1.0    POINT (22.55694 78.19306)       SJM\n...             ...        ...    ...                          ...       ...\n67603419 -55.890278 -67.248611    1.0  POINT (-67.24861 -55.89028)       CHL\n67603420 -55.890278 -67.220833    1.0  POINT (-67.22083 -55.89028)       CHL\n67603424 -55.890278 -67.109722    1.0  POINT (-67.10972 -55.89028)       CHL\n67629338 -55.945833 -67.276389    1.0  POINT (-67.27639 -55.94583)      None\n67642298 -55.973611 -67.276389    1.0  POINT (-67.27639 -55.97361)      None\n\n[5394069 rows x 5 columns]",
      "text/html": "<div>\n<style scoped>\n    .dataframe tbody tr th:only-of-type {\n        vertical-align: middle;\n    }\n\n    .dataframe tbody tr th {\n        vertical-align: top;\n    }\n\n    .dataframe thead th {\n        text-align: right;\n    }\n</style>\n<table border=\"1\" class=\"dataframe\">\n  <thead>\n    <tr style=\"text-align: right;\">\n      <th></th>\n      <th>latitude</th>\n      <th>longitude</th>\n      <th>value</th>\n      <th>geometry</th>\n      <th>region_id</th>\n    </tr>\n  </thead>\n  <tbody>\n    <tr>\n      <th>4763222</th>\n      <td>78.804167</td>\n      <td>11.723611</td>\n      <td>1.0</td>\n      <td>POINT (11.72361 78.80417)</td>\n      <td>None</td>\n    </tr>\n    <tr>\n      <th>4802069</th>\n      <td>78.720833</td>\n      <td>10.806944</td>\n      <td>1.0</td>\n      <td>POINT (10.80694 78.72083)</td>\n      <td>SJM</td>\n    </tr>\n    <tr>\n      <th>4892960</th>\n      <td>78.526389</td>\n      <td>15.556944</td>\n      <td>1.0</td>\n      <td>POINT (15.55694 78.52639)</td>\n      <td>SJM</td>\n    </tr>\n    <tr>\n      <th>5009602</th>\n      <td>78.276389</td>\n      <td>15.612500</td>\n      <td>1.0</td>\n      <td>POINT (15.61250 78.27639)</td>\n      <td>SJM</td>\n    </tr>\n    <tr>\n      <th>5048732</th>\n      <td>78.193056</td>\n      <td>22.556944</td>\n      <td>1.0</td>\n      <td>POINT (22.55694 78.19306)</td>\n      <td>SJM</td>\n    </tr>\n    <tr>\n      <th>...</th>\n      <td>...</td>\n      <td>...</td>\n      <td>...</td>\n      <td>...</td>\n      <td>...</td>\n    </tr>\n    <tr>\n      <th>67603419</th>\n      <td>-55.890278</td>\n      <td>-67.248611</td>\n      <td>1.0</td>\n      <td>POINT (-67.24861 -55.89028)</td>\n      <td>CHL</td>\n    </tr>\n    <tr>\n      <th>67603420</th>\n      <td>-55.890278</td>\n      <td>-67.220833</td>\n      <td>1.0</td>\n      <td>POINT (-67.22083 -55.89028)</td>\n      <td>CHL</td>\n    </tr>\n    <tr>\n      <th>67603424</th>\n      <td>-55.890278</td>\n      <td>-67.109722</td>\n      <td>1.0</td>\n      <td>POINT (-67.10972 -55.89028)</td>\n      <td>CHL</td>\n    </tr>\n    <tr>\n      <th>67629338</th>\n      <td>-55.945833</td>\n      <td>-67.276389</td>\n      <td>1.0</td>\n      <td>POINT (-67.27639 -55.94583)</td>\n      <td>None</td>\n    </tr>\n    <tr>\n      <th>67642298</th>\n      <td>-55.973611</td>\n      <td>-67.276389</td>\n      <td>1.0</td>\n      <td>POINT (-67.27639 -55.97361)</td>\n      <td>None</td>\n    </tr>\n  </tbody>\n</table>\n<p>5394069 rows × 5 columns</p>\n</div>"
     },
     "execution_count": 6,
     "metadata": {},
     "output_type": "execute_result"
    }
   ],
   "source": [
    "gdf"
   ]
  },
  {
   "cell_type": "markdown",
   "id": "684ae8ed-9c12-4806-a114-939d61b58f83",
   "metadata": {},
   "source": [
    "#### save first draft file"
   ]
  },
  {
   "cell_type": "code",
   "execution_count": 7,
   "id": "501bb822-e4a4-4857-afaa-ec7829c9cdc2",
   "metadata": {
    "ExecuteTime": {
     "end_time": "2024-01-18T19:42:41.258934Z",
     "start_time": "2024-01-18T19:42:41.023892800Z"
    }
   },
   "outputs": [
    {
     "data": {
      "text/plain": "           latitude  longitude  value region_id\n4763222   78.804167  11.723611      1      None\n4802069   78.720833  10.806944      1       SJM\n4892960   78.526389  15.556944      1       SJM\n5009602   78.276389  15.612500      1       SJM\n5048732   78.193056  22.556944      1       SJM\n...             ...        ...    ...       ...\n67603419 -55.890278 -67.248611      1       CHL\n67603420 -55.890278 -67.220833      1       CHL\n67603424 -55.890278 -67.109722      1       CHL\n67629338 -55.945833 -67.276389      1      None\n67642298 -55.973611 -67.276389      1      None\n\n[5394069 rows x 4 columns]",
      "text/html": "<div>\n<style scoped>\n    .dataframe tbody tr th:only-of-type {\n        vertical-align: middle;\n    }\n\n    .dataframe tbody tr th {\n        vertical-align: top;\n    }\n\n    .dataframe thead th {\n        text-align: right;\n    }\n</style>\n<table border=\"1\" class=\"dataframe\">\n  <thead>\n    <tr style=\"text-align: right;\">\n      <th></th>\n      <th>latitude</th>\n      <th>longitude</th>\n      <th>value</th>\n      <th>region_id</th>\n    </tr>\n  </thead>\n  <tbody>\n    <tr>\n      <th>4763222</th>\n      <td>78.804167</td>\n      <td>11.723611</td>\n      <td>1</td>\n      <td>None</td>\n    </tr>\n    <tr>\n      <th>4802069</th>\n      <td>78.720833</td>\n      <td>10.806944</td>\n      <td>1</td>\n      <td>SJM</td>\n    </tr>\n    <tr>\n      <th>4892960</th>\n      <td>78.526389</td>\n      <td>15.556944</td>\n      <td>1</td>\n      <td>SJM</td>\n    </tr>\n    <tr>\n      <th>5009602</th>\n      <td>78.276389</td>\n      <td>15.612500</td>\n      <td>1</td>\n      <td>SJM</td>\n    </tr>\n    <tr>\n      <th>5048732</th>\n      <td>78.193056</td>\n      <td>22.556944</td>\n      <td>1</td>\n      <td>SJM</td>\n    </tr>\n    <tr>\n      <th>...</th>\n      <td>...</td>\n      <td>...</td>\n      <td>...</td>\n      <td>...</td>\n    </tr>\n    <tr>\n      <th>67603419</th>\n      <td>-55.890278</td>\n      <td>-67.248611</td>\n      <td>1</td>\n      <td>CHL</td>\n    </tr>\n    <tr>\n      <th>67603420</th>\n      <td>-55.890278</td>\n      <td>-67.220833</td>\n      <td>1</td>\n      <td>CHL</td>\n    </tr>\n    <tr>\n      <th>67603424</th>\n      <td>-55.890278</td>\n      <td>-67.109722</td>\n      <td>1</td>\n      <td>CHL</td>\n    </tr>\n    <tr>\n      <th>67629338</th>\n      <td>-55.945833</td>\n      <td>-67.276389</td>\n      <td>1</td>\n      <td>None</td>\n    </tr>\n    <tr>\n      <th>67642298</th>\n      <td>-55.973611</td>\n      <td>-67.276389</td>\n      <td>1</td>\n      <td>None</td>\n    </tr>\n  </tbody>\n</table>\n<p>5394069 rows × 4 columns</p>\n</div>"
     },
     "execution_count": 7,
     "metadata": {},
     "output_type": "execute_result"
    }
   ],
   "source": [
    "# # Drop the 'geometry' column\n",
    "df = pd.DataFrame(gdf.drop(columns='geometry'))\n",
    "df[\"value\"] = 1 ## change value to just 1 # this is not necessary as the value changes to step 5\n",
    "df"
   ]
  },
  {
   "cell_type": "markdown",
   "source": [
    "### save file"
   ],
   "metadata": {
    "collapsed": false
   },
   "id": "cd1b322f437cdb19"
  },
  {
   "cell_type": "code",
   "execution_count": 8,
   "outputs": [
    {
     "name": "stderr",
     "output_type": "stream",
     "text": [
      "C:\\Users\\AndreaAngelidou\\AppData\\Local\\Temp\\ipykernel_7896\\3731578587.py:2: PerformanceWarning: \n",
      "your performance may suffer as PyTables will pickle object types that it cannot\n",
      "map directly to c-types [inferred_type->mixed,key->block1_values] [items->Index(['region_id'], dtype='object')]\n",
      "\n",
      "  df.to_hdf(output_file, key=\"data\", mode='w')\n"
     ]
    }
   ],
   "source": [
    "# # Save the updated GeoDataFrame to a new h5 file\n",
    "df.to_hdf(output_file, key=\"data\", mode='w')"
   ],
   "metadata": {
    "collapsed": false,
    "ExecuteTime": {
     "end_time": "2024-01-18T19:42:41.647701200Z",
     "start_time": "2024-01-18T19:42:41.262303600Z"
    }
   },
   "id": "7e236ac1602f094e"
  },
  {
   "cell_type": "markdown",
   "source": [
    "# save corrected file"
   ],
   "metadata": {
    "collapsed": false
   },
   "id": "7092eab3826a8ae4"
  },
  {
   "cell_type": "code",
   "execution_count": 18,
   "outputs": [],
   "source": [
    "data = pd.read_hdf(\"forest_exp_region_final_v2.h5\")"
   ],
   "metadata": {
    "collapsed": false,
    "ExecuteTime": {
     "end_time": "2024-01-19T08:07:34.113428500Z",
     "start_time": "2024-01-19T08:07:33.538726700Z"
    }
   },
   "id": "643bd7c5f1250e81"
  },
  {
   "cell_type": "code",
   "execution_count": 19,
   "outputs": [
    {
     "data": {
      "text/plain": "           latitude  longitude  value region_id\n4763222   78.804167  11.723611      1      None\n4802069   78.720833  10.806944      1       SJM\n4892960   78.526389  15.556944      1       SJM\n5009602   78.276389  15.612500      1       SJM\n5048732   78.193056  22.556944      1       SJM\n...             ...        ...    ...       ...\n67603419 -55.890278 -67.248611      1       CHL\n67603420 -55.890278 -67.220833      1       CHL\n67603424 -55.890278 -67.109722      1       CHL\n67629338 -55.945833 -67.276389      1      None\n67642298 -55.973611 -67.276389      1      None\n\n[5394069 rows x 4 columns]",
      "text/html": "<div>\n<style scoped>\n    .dataframe tbody tr th:only-of-type {\n        vertical-align: middle;\n    }\n\n    .dataframe tbody tr th {\n        vertical-align: top;\n    }\n\n    .dataframe thead th {\n        text-align: right;\n    }\n</style>\n<table border=\"1\" class=\"dataframe\">\n  <thead>\n    <tr style=\"text-align: right;\">\n      <th></th>\n      <th>latitude</th>\n      <th>longitude</th>\n      <th>value</th>\n      <th>region_id</th>\n    </tr>\n  </thead>\n  <tbody>\n    <tr>\n      <th>4763222</th>\n      <td>78.804167</td>\n      <td>11.723611</td>\n      <td>1</td>\n      <td>None</td>\n    </tr>\n    <tr>\n      <th>4802069</th>\n      <td>78.720833</td>\n      <td>10.806944</td>\n      <td>1</td>\n      <td>SJM</td>\n    </tr>\n    <tr>\n      <th>4892960</th>\n      <td>78.526389</td>\n      <td>15.556944</td>\n      <td>1</td>\n      <td>SJM</td>\n    </tr>\n    <tr>\n      <th>5009602</th>\n      <td>78.276389</td>\n      <td>15.612500</td>\n      <td>1</td>\n      <td>SJM</td>\n    </tr>\n    <tr>\n      <th>5048732</th>\n      <td>78.193056</td>\n      <td>22.556944</td>\n      <td>1</td>\n      <td>SJM</td>\n    </tr>\n    <tr>\n      <th>...</th>\n      <td>...</td>\n      <td>...</td>\n      <td>...</td>\n      <td>...</td>\n    </tr>\n    <tr>\n      <th>67603419</th>\n      <td>-55.890278</td>\n      <td>-67.248611</td>\n      <td>1</td>\n      <td>CHL</td>\n    </tr>\n    <tr>\n      <th>67603420</th>\n      <td>-55.890278</td>\n      <td>-67.220833</td>\n      <td>1</td>\n      <td>CHL</td>\n    </tr>\n    <tr>\n      <th>67603424</th>\n      <td>-55.890278</td>\n      <td>-67.109722</td>\n      <td>1</td>\n      <td>CHL</td>\n    </tr>\n    <tr>\n      <th>67629338</th>\n      <td>-55.945833</td>\n      <td>-67.276389</td>\n      <td>1</td>\n      <td>None</td>\n    </tr>\n    <tr>\n      <th>67642298</th>\n      <td>-55.973611</td>\n      <td>-67.276389</td>\n      <td>1</td>\n      <td>None</td>\n    </tr>\n  </tbody>\n</table>\n<p>5394069 rows × 4 columns</p>\n</div>"
     },
     "execution_count": 19,
     "metadata": {},
     "output_type": "execute_result"
    }
   ],
   "source": [
    "data"
   ],
   "metadata": {
    "collapsed": false,
    "ExecuteTime": {
     "end_time": "2024-01-19T08:07:34.944585300Z",
     "start_time": "2024-01-19T08:07:34.917404900Z"
    }
   },
   "id": "32b6f0f3a1da1a58"
  },
  {
   "cell_type": "code",
   "execution_count": 20,
   "outputs": [
    {
     "data": {
      "text/plain": "           latitude  longitude  value region_id\n4802069   78.720833  10.806944      1       SJM\n4892960   78.526389  15.556944      1       SJM\n5009602   78.276389  15.612500      1       SJM\n5048732   78.193056  22.556944      1       SJM\n5100313   78.081944  15.362500      1       SJM\n...             ...        ...    ...       ...\n67590463 -55.862500 -67.137500      1       CHL\n67590464 -55.862500 -67.109722      1       CHL\n67603419 -55.890278 -67.248611      1       CHL\n67603420 -55.890278 -67.220833      1       CHL\n67603424 -55.890278 -67.109722      1       CHL\n\n[5377349 rows x 4 columns]",
      "text/html": "<div>\n<style scoped>\n    .dataframe tbody tr th:only-of-type {\n        vertical-align: middle;\n    }\n\n    .dataframe tbody tr th {\n        vertical-align: top;\n    }\n\n    .dataframe thead th {\n        text-align: right;\n    }\n</style>\n<table border=\"1\" class=\"dataframe\">\n  <thead>\n    <tr style=\"text-align: right;\">\n      <th></th>\n      <th>latitude</th>\n      <th>longitude</th>\n      <th>value</th>\n      <th>region_id</th>\n    </tr>\n  </thead>\n  <tbody>\n    <tr>\n      <th>4802069</th>\n      <td>78.720833</td>\n      <td>10.806944</td>\n      <td>1</td>\n      <td>SJM</td>\n    </tr>\n    <tr>\n      <th>4892960</th>\n      <td>78.526389</td>\n      <td>15.556944</td>\n      <td>1</td>\n      <td>SJM</td>\n    </tr>\n    <tr>\n      <th>5009602</th>\n      <td>78.276389</td>\n      <td>15.612500</td>\n      <td>1</td>\n      <td>SJM</td>\n    </tr>\n    <tr>\n      <th>5048732</th>\n      <td>78.193056</td>\n      <td>22.556944</td>\n      <td>1</td>\n      <td>SJM</td>\n    </tr>\n    <tr>\n      <th>5100313</th>\n      <td>78.081944</td>\n      <td>15.362500</td>\n      <td>1</td>\n      <td>SJM</td>\n    </tr>\n    <tr>\n      <th>...</th>\n      <td>...</td>\n      <td>...</td>\n      <td>...</td>\n      <td>...</td>\n    </tr>\n    <tr>\n      <th>67590463</th>\n      <td>-55.862500</td>\n      <td>-67.137500</td>\n      <td>1</td>\n      <td>CHL</td>\n    </tr>\n    <tr>\n      <th>67590464</th>\n      <td>-55.862500</td>\n      <td>-67.109722</td>\n      <td>1</td>\n      <td>CHL</td>\n    </tr>\n    <tr>\n      <th>67603419</th>\n      <td>-55.890278</td>\n      <td>-67.248611</td>\n      <td>1</td>\n      <td>CHL</td>\n    </tr>\n    <tr>\n      <th>67603420</th>\n      <td>-55.890278</td>\n      <td>-67.220833</td>\n      <td>1</td>\n      <td>CHL</td>\n    </tr>\n    <tr>\n      <th>67603424</th>\n      <td>-55.890278</td>\n      <td>-67.109722</td>\n      <td>1</td>\n      <td>CHL</td>\n    </tr>\n  </tbody>\n</table>\n<p>5377349 rows × 4 columns</p>\n</div>"
     },
     "execution_count": 20,
     "metadata": {},
     "output_type": "execute_result"
    }
   ],
   "source": [
    "data = data.dropna() # drop nan values\n",
    "data"
   ],
   "metadata": {
    "collapsed": false,
    "ExecuteTime": {
     "end_time": "2024-01-19T08:07:54.674285200Z",
     "start_time": "2024-01-19T08:07:54.322861200Z"
    }
   },
   "id": "71e70fc124a41cc9"
  },
  {
   "cell_type": "code",
   "execution_count": 26,
   "outputs": [],
   "source": [
    "data.to_hdf(\"forest_exp_region_final_v3.h5\", key=\"data\", mode='w')"
   ],
   "metadata": {
    "collapsed": false,
    "ExecuteTime": {
     "end_time": "2024-01-19T08:09:47.639040300Z",
     "start_time": "2024-01-19T08:09:47.123683600Z"
    }
   },
   "id": "2c4339d318f83e5a"
  },
  {
   "cell_type": "code",
   "execution_count": 27,
   "outputs": [
    {
     "data": {
      "text/plain": "           latitude  longitude  value region_id\n4802069   78.720833  10.806944      1       SJM\n4892960   78.526389  15.556944      1       SJM\n5009602   78.276389  15.612500      1       SJM\n5048732   78.193056  22.556944      1       SJM\n5100313   78.081944  15.362500      1       SJM\n...             ...        ...    ...       ...\n67590463 -55.862500 -67.137500      1       CHL\n67590464 -55.862500 -67.109722      1       CHL\n67603419 -55.890278 -67.248611      1       CHL\n67603420 -55.890278 -67.220833      1       CHL\n67603424 -55.890278 -67.109722      1       CHL\n\n[5377349 rows x 4 columns]",
      "text/html": "<div>\n<style scoped>\n    .dataframe tbody tr th:only-of-type {\n        vertical-align: middle;\n    }\n\n    .dataframe tbody tr th {\n        vertical-align: top;\n    }\n\n    .dataframe thead th {\n        text-align: right;\n    }\n</style>\n<table border=\"1\" class=\"dataframe\">\n  <thead>\n    <tr style=\"text-align: right;\">\n      <th></th>\n      <th>latitude</th>\n      <th>longitude</th>\n      <th>value</th>\n      <th>region_id</th>\n    </tr>\n  </thead>\n  <tbody>\n    <tr>\n      <th>4802069</th>\n      <td>78.720833</td>\n      <td>10.806944</td>\n      <td>1</td>\n      <td>SJM</td>\n    </tr>\n    <tr>\n      <th>4892960</th>\n      <td>78.526389</td>\n      <td>15.556944</td>\n      <td>1</td>\n      <td>SJM</td>\n    </tr>\n    <tr>\n      <th>5009602</th>\n      <td>78.276389</td>\n      <td>15.612500</td>\n      <td>1</td>\n      <td>SJM</td>\n    </tr>\n    <tr>\n      <th>5048732</th>\n      <td>78.193056</td>\n      <td>22.556944</td>\n      <td>1</td>\n      <td>SJM</td>\n    </tr>\n    <tr>\n      <th>5100313</th>\n      <td>78.081944</td>\n      <td>15.362500</td>\n      <td>1</td>\n      <td>SJM</td>\n    </tr>\n    <tr>\n      <th>...</th>\n      <td>...</td>\n      <td>...</td>\n      <td>...</td>\n      <td>...</td>\n    </tr>\n    <tr>\n      <th>67590463</th>\n      <td>-55.862500</td>\n      <td>-67.137500</td>\n      <td>1</td>\n      <td>CHL</td>\n    </tr>\n    <tr>\n      <th>67590464</th>\n      <td>-55.862500</td>\n      <td>-67.109722</td>\n      <td>1</td>\n      <td>CHL</td>\n    </tr>\n    <tr>\n      <th>67603419</th>\n      <td>-55.890278</td>\n      <td>-67.248611</td>\n      <td>1</td>\n      <td>CHL</td>\n    </tr>\n    <tr>\n      <th>67603420</th>\n      <td>-55.890278</td>\n      <td>-67.220833</td>\n      <td>1</td>\n      <td>CHL</td>\n    </tr>\n    <tr>\n      <th>67603424</th>\n      <td>-55.890278</td>\n      <td>-67.109722</td>\n      <td>1</td>\n      <td>CHL</td>\n    </tr>\n  </tbody>\n</table>\n<p>5377349 rows × 4 columns</p>\n</div>"
     },
     "execution_count": 27,
     "metadata": {},
     "output_type": "execute_result"
    }
   ],
   "source": [
    "ds = pd.read_hdf(\"forest_exp_region_final_v3.h5\") # final file to use for step 4\n",
    "ds"
   ],
   "metadata": {
    "collapsed": false,
    "ExecuteTime": {
     "end_time": "2024-01-19T08:09:49.505892800Z",
     "start_time": "2024-01-19T08:09:49.025817900Z"
    }
   },
   "id": "d522dad3d3500b29"
  },
  {
   "cell_type": "code",
   "execution_count": null,
   "outputs": [],
   "source": [],
   "metadata": {
    "collapsed": false
   },
   "id": "c670e1819bfd641d"
  }
 ],
 "metadata": {
  "kernelspec": {
   "display_name": "Python 3 (ipykernel)",
   "language": "python",
   "name": "python3"
  },
  "language_info": {
   "codemirror_mode": {
    "name": "ipython",
    "version": 3
   },
   "file_extension": ".py",
   "mimetype": "text/x-python",
   "name": "python",
   "nbconvert_exporter": "python",
   "pygments_lexer": "ipython3",
   "version": "3.9.18"
  }
 },
 "nbformat": 4,
 "nbformat_minor": 5
}
